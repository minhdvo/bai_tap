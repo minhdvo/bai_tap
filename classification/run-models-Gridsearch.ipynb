{
 "cells": [
  {
   "cell_type": "code",
   "execution_count": 1,
   "metadata": {},
   "outputs": [],
   "source": [
    "import pandas as pd\n",
    "import numpy as np\n",
    "\n",
    "import matplotlib.pyplot as plt\n",
    "%matplotlib inline"
   ]
  },
  {
   "cell_type": "code",
   "execution_count": 2,
   "metadata": {},
   "outputs": [],
   "source": [
    "import warnings\n",
    "warnings.filterwarnings('ignore')"
   ]
  },
  {
   "cell_type": "code",
   "execution_count": 3,
   "metadata": {},
   "outputs": [
    {
     "data": {
      "text/plain": [
       "'CPL_wrt_BC,\\nclient_state,\\nduration,\\nnum_prods,\\ncalls,\\nCPL_wrt_self,\\nchurn,\\navg_budget,\\nBC,\\nclicks,\\n'"
      ]
     },
     "execution_count": 3,
     "metadata": {},
     "output_type": "execute_result"
    }
   ],
   "source": [
    "header_file = open('assets/header.txt','r')\n",
    "text = header_file.read()\n",
    "text"
   ]
  },
  {
   "cell_type": "code",
   "execution_count": 4,
   "metadata": {},
   "outputs": [
    {
     "data": {
      "text/plain": [
       "['CPL_wrt_BC',\n",
       " 'client_state',\n",
       " 'duration',\n",
       " 'num_prods',\n",
       " 'calls',\n",
       " 'CPL_wrt_self',\n",
       " 'churn',\n",
       " 'avg_budget',\n",
       " 'BC',\n",
       " 'clicks']"
      ]
     },
     "execution_count": 4,
     "metadata": {},
     "output_type": "execute_result"
    }
   ],
   "source": [
    "header = text.split(',\\n')[:-1]\n",
    "header"
   ]
  },
  {
   "cell_type": "code",
   "execution_count": 5,
   "metadata": {},
   "outputs": [
    {
     "data": {
      "text/html": [
       "<div>\n",
       "<style scoped>\n",
       "    .dataframe tbody tr th:only-of-type {\n",
       "        vertical-align: middle;\n",
       "    }\n",
       "\n",
       "    .dataframe tbody tr th {\n",
       "        vertical-align: top;\n",
       "    }\n",
       "\n",
       "    .dataframe thead th {\n",
       "        text-align: right;\n",
       "    }\n",
       "</style>\n",
       "<table border=\"1\" class=\"dataframe\">\n",
       "  <thead>\n",
       "    <tr style=\"text-align: right;\">\n",
       "      <th></th>\n",
       "      <th>CPL_wrt_BC</th>\n",
       "      <th>client_state</th>\n",
       "      <th>duration</th>\n",
       "      <th>num_prods</th>\n",
       "      <th>calls</th>\n",
       "      <th>CPL_wrt_self</th>\n",
       "      <th>churn</th>\n",
       "      <th>avg_budget</th>\n",
       "      <th>BC</th>\n",
       "      <th>clicks</th>\n",
       "    </tr>\n",
       "  </thead>\n",
       "  <tbody>\n",
       "    <tr>\n",
       "      <th>0</th>\n",
       "      <td>0.000000</td>\n",
       "      <td>AZ</td>\n",
       "      <td>73</td>\n",
       "      <td>6</td>\n",
       "      <td>2</td>\n",
       "      <td>NaN</td>\n",
       "      <td>1</td>\n",
       "      <td>10082.152554</td>\n",
       "      <td>Beauty &amp; Personal Care</td>\n",
       "      <td>107</td>\n",
       "    </tr>\n",
       "    <tr>\n",
       "      <th>1</th>\n",
       "      <td>-0.623618</td>\n",
       "      <td>CA</td>\n",
       "      <td>1</td>\n",
       "      <td>1</td>\n",
       "      <td>3</td>\n",
       "      <td>0.000000</td>\n",
       "      <td>0</td>\n",
       "      <td>133.928571</td>\n",
       "      <td>Shopping, Collectibles &amp; Gifts (General)</td>\n",
       "      <td>79</td>\n",
       "    </tr>\n",
       "    <tr>\n",
       "      <th>2</th>\n",
       "      <td>0.007905</td>\n",
       "      <td>NY</td>\n",
       "      <td>102</td>\n",
       "      <td>2</td>\n",
       "      <td>8</td>\n",
       "      <td>-0.292008</td>\n",
       "      <td>0</td>\n",
       "      <td>3935.017462</td>\n",
       "      <td>Personal Services (Weddings, Cleaners, etc.)</td>\n",
       "      <td>90</td>\n",
       "    </tr>\n",
       "    <tr>\n",
       "      <th>3</th>\n",
       "      <td>-0.104900</td>\n",
       "      <td>MN</td>\n",
       "      <td>6</td>\n",
       "      <td>1</td>\n",
       "      <td>5</td>\n",
       "      <td>0.587206</td>\n",
       "      <td>0</td>\n",
       "      <td>461.538462</td>\n",
       "      <td>Travel</td>\n",
       "      <td>112</td>\n",
       "    </tr>\n",
       "    <tr>\n",
       "      <th>4</th>\n",
       "      <td>-0.013057</td>\n",
       "      <td>NJ</td>\n",
       "      <td>34</td>\n",
       "      <td>1</td>\n",
       "      <td>6</td>\n",
       "      <td>-0.955335</td>\n",
       "      <td>1</td>\n",
       "      <td>314.705882</td>\n",
       "      <td>Health &amp; Fitness</td>\n",
       "      <td>95</td>\n",
       "    </tr>\n",
       "  </tbody>\n",
       "</table>\n",
       "</div>"
      ],
      "text/plain": [
       "   CPL_wrt_BC client_state  duration  num_prods  calls  CPL_wrt_self  churn  \\\n",
       "0    0.000000           AZ        73          6      2           NaN      1   \n",
       "1   -0.623618           CA         1          1      3      0.000000      0   \n",
       "2    0.007905           NY       102          2      8     -0.292008      0   \n",
       "3   -0.104900           MN         6          1      5      0.587206      0   \n",
       "4   -0.013057           NJ        34          1      6     -0.955335      1   \n",
       "\n",
       "     avg_budget                                            BC  clicks  \n",
       "0  10082.152554                        Beauty & Personal Care     107  \n",
       "1    133.928571      Shopping, Collectibles & Gifts (General)      79  \n",
       "2   3935.017462  Personal Services (Weddings, Cleaners, etc.)      90  \n",
       "3    461.538462                                        Travel     112  \n",
       "4    314.705882                              Health & Fitness      95  "
      ]
     },
     "execution_count": 5,
     "metadata": {},
     "output_type": "execute_result"
    }
   ],
   "source": [
    "# load data\n",
    "df = pd.read_csv('assets/data.csv',names=header)\n",
    "df.head()"
   ]
  },
  {
   "cell_type": "code",
   "execution_count": 6,
   "metadata": {},
   "outputs": [
    {
     "name": "stdout",
     "output_type": "stream",
     "text": [
      "<class 'pandas.core.frame.DataFrame'>\n",
      "RangeIndex: 10000 entries, 0 to 9999\n",
      "Data columns (total 10 columns):\n",
      "CPL_wrt_BC      10000 non-null float64\n",
      "client_state    10000 non-null object\n",
      "duration        10000 non-null int64\n",
      "num_prods       10000 non-null int64\n",
      "calls           10000 non-null int64\n",
      "CPL_wrt_self    8908 non-null float64\n",
      "churn           10000 non-null int64\n",
      "avg_budget      10000 non-null float64\n",
      "BC              10000 non-null object\n",
      "clicks          10000 non-null int64\n",
      "dtypes: float64(3), int64(5), object(2)\n",
      "memory usage: 781.3+ KB\n"
     ]
    }
   ],
   "source": [
    "df.info()"
   ]
  },
  {
   "cell_type": "code",
   "execution_count": 7,
   "metadata": {},
   "outputs": [
    {
     "name": "stdout",
     "output_type": "stream",
     "text": [
      "<class 'pandas.core.frame.DataFrame'>\n",
      "RangeIndex: 10000 entries, 0 to 9999\n",
      "Data columns (total 10 columns):\n",
      "CPL_wrt_BC      10000 non-null float64\n",
      "client_state    10000 non-null object\n",
      "duration        10000 non-null int64\n",
      "num_prods       10000 non-null int64\n",
      "calls           10000 non-null int64\n",
      "CPL_wrt_self    10000 non-null float64\n",
      "churn           10000 non-null int64\n",
      "avg_budget      10000 non-null float64\n",
      "BC              10000 non-null object\n",
      "clicks          10000 non-null int64\n",
      "dtypes: float64(3), int64(5), object(2)\n",
      "memory usage: 781.3+ KB\n"
     ]
    }
   ],
   "source": [
    "df = df.fillna(value=0)\n",
    "df.info()"
   ]
  },
  {
   "cell_type": "code",
   "execution_count": 8,
   "metadata": {},
   "outputs": [
    {
     "data": {
      "text/html": [
       "<div>\n",
       "<style scoped>\n",
       "    .dataframe tbody tr th:only-of-type {\n",
       "        vertical-align: middle;\n",
       "    }\n",
       "\n",
       "    .dataframe tbody tr th {\n",
       "        vertical-align: top;\n",
       "    }\n",
       "\n",
       "    .dataframe thead th {\n",
       "        text-align: right;\n",
       "    }\n",
       "</style>\n",
       "<table border=\"1\" class=\"dataframe\">\n",
       "  <thead>\n",
       "    <tr style=\"text-align: right;\">\n",
       "      <th></th>\n",
       "      <th>CPL_wrt_BC</th>\n",
       "      <th>client_state</th>\n",
       "      <th>duration</th>\n",
       "      <th>num_prods</th>\n",
       "      <th>calls</th>\n",
       "      <th>CPL_wrt_self</th>\n",
       "      <th>churn</th>\n",
       "      <th>avg_budget</th>\n",
       "      <th>BC</th>\n",
       "      <th>clicks</th>\n",
       "    </tr>\n",
       "  </thead>\n",
       "  <tbody>\n",
       "    <tr>\n",
       "      <th>0</th>\n",
       "      <td>0.000000</td>\n",
       "      <td>AZ</td>\n",
       "      <td>73</td>\n",
       "      <td>6</td>\n",
       "      <td>2</td>\n",
       "      <td>0.000000</td>\n",
       "      <td>1</td>\n",
       "      <td>10082.152554</td>\n",
       "      <td>Beauty &amp; Personal Care</td>\n",
       "      <td>107</td>\n",
       "    </tr>\n",
       "    <tr>\n",
       "      <th>1</th>\n",
       "      <td>-0.623618</td>\n",
       "      <td>CA</td>\n",
       "      <td>1</td>\n",
       "      <td>1</td>\n",
       "      <td>3</td>\n",
       "      <td>0.000000</td>\n",
       "      <td>0</td>\n",
       "      <td>133.928571</td>\n",
       "      <td>Shopping, Collectibles &amp; Gifts (General)</td>\n",
       "      <td>79</td>\n",
       "    </tr>\n",
       "    <tr>\n",
       "      <th>2</th>\n",
       "      <td>0.007905</td>\n",
       "      <td>NY</td>\n",
       "      <td>102</td>\n",
       "      <td>2</td>\n",
       "      <td>8</td>\n",
       "      <td>-0.292008</td>\n",
       "      <td>0</td>\n",
       "      <td>3935.017462</td>\n",
       "      <td>Personal Services (Weddings, Cleaners, etc.)</td>\n",
       "      <td>90</td>\n",
       "    </tr>\n",
       "    <tr>\n",
       "      <th>3</th>\n",
       "      <td>-0.104900</td>\n",
       "      <td>MN</td>\n",
       "      <td>6</td>\n",
       "      <td>1</td>\n",
       "      <td>5</td>\n",
       "      <td>0.587206</td>\n",
       "      <td>0</td>\n",
       "      <td>461.538462</td>\n",
       "      <td>Travel</td>\n",
       "      <td>112</td>\n",
       "    </tr>\n",
       "    <tr>\n",
       "      <th>4</th>\n",
       "      <td>-0.013057</td>\n",
       "      <td>NJ</td>\n",
       "      <td>34</td>\n",
       "      <td>1</td>\n",
       "      <td>6</td>\n",
       "      <td>-0.955335</td>\n",
       "      <td>1</td>\n",
       "      <td>314.705882</td>\n",
       "      <td>Health &amp; Fitness</td>\n",
       "      <td>95</td>\n",
       "    </tr>\n",
       "  </tbody>\n",
       "</table>\n",
       "</div>"
      ],
      "text/plain": [
       "   CPL_wrt_BC client_state  duration  num_prods  calls  CPL_wrt_self  churn  \\\n",
       "0    0.000000           AZ        73          6      2      0.000000      1   \n",
       "1   -0.623618           CA         1          1      3      0.000000      0   \n",
       "2    0.007905           NY       102          2      8     -0.292008      0   \n",
       "3   -0.104900           MN         6          1      5      0.587206      0   \n",
       "4   -0.013057           NJ        34          1      6     -0.955335      1   \n",
       "\n",
       "     avg_budget                                            BC  clicks  \n",
       "0  10082.152554                        Beauty & Personal Care     107  \n",
       "1    133.928571      Shopping, Collectibles & Gifts (General)      79  \n",
       "2   3935.017462  Personal Services (Weddings, Cleaners, etc.)      90  \n",
       "3    461.538462                                        Travel     112  \n",
       "4    314.705882                              Health & Fitness      95  "
      ]
     },
     "execution_count": 8,
     "metadata": {},
     "output_type": "execute_result"
    }
   ],
   "source": [
    "df.head()"
   ]
  },
  {
   "cell_type": "code",
   "execution_count": 9,
   "metadata": {},
   "outputs": [
    {
     "data": {
      "text/html": [
       "<div>\n",
       "<style scoped>\n",
       "    .dataframe tbody tr th:only-of-type {\n",
       "        vertical-align: middle;\n",
       "    }\n",
       "\n",
       "    .dataframe tbody tr th {\n",
       "        vertical-align: top;\n",
       "    }\n",
       "\n",
       "    .dataframe thead th {\n",
       "        text-align: right;\n",
       "    }\n",
       "</style>\n",
       "<table border=\"1\" class=\"dataframe\">\n",
       "  <thead>\n",
       "    <tr style=\"text-align: right;\">\n",
       "      <th></th>\n",
       "      <th>CPL_wrt_BC</th>\n",
       "      <th>duration</th>\n",
       "      <th>num_prods</th>\n",
       "      <th>calls</th>\n",
       "      <th>CPL_wrt_self</th>\n",
       "      <th>churn</th>\n",
       "      <th>avg_budget</th>\n",
       "      <th>clicks</th>\n",
       "      <th>client_state_AK</th>\n",
       "      <th>client_state_AL</th>\n",
       "      <th>...</th>\n",
       "      <th>BC_Industrial &amp; Commercial</th>\n",
       "      <th>BC_Personal Services (Weddings, Cleaners, etc.)</th>\n",
       "      <th>BC_Physicians &amp; Surgeons</th>\n",
       "      <th>BC_Real Estate</th>\n",
       "      <th>BC_Religion &amp; Spirituality</th>\n",
       "      <th>BC_Restaurants &amp; Food</th>\n",
       "      <th>BC_Shopping, Collectibles &amp; Gifts (General)</th>\n",
       "      <th>BC_Sports &amp; Recreation</th>\n",
       "      <th>BC_Toys &amp; Hobbies</th>\n",
       "      <th>BC_Travel</th>\n",
       "    </tr>\n",
       "  </thead>\n",
       "  <tbody>\n",
       "    <tr>\n",
       "      <th>0</th>\n",
       "      <td>0.000000</td>\n",
       "      <td>73</td>\n",
       "      <td>6</td>\n",
       "      <td>2</td>\n",
       "      <td>0.000000</td>\n",
       "      <td>1</td>\n",
       "      <td>10082.152554</td>\n",
       "      <td>107</td>\n",
       "      <td>0</td>\n",
       "      <td>0</td>\n",
       "      <td>...</td>\n",
       "      <td>0</td>\n",
       "      <td>0</td>\n",
       "      <td>0</td>\n",
       "      <td>0</td>\n",
       "      <td>0</td>\n",
       "      <td>0</td>\n",
       "      <td>0</td>\n",
       "      <td>0</td>\n",
       "      <td>0</td>\n",
       "      <td>0</td>\n",
       "    </tr>\n",
       "    <tr>\n",
       "      <th>1</th>\n",
       "      <td>-0.623618</td>\n",
       "      <td>1</td>\n",
       "      <td>1</td>\n",
       "      <td>3</td>\n",
       "      <td>0.000000</td>\n",
       "      <td>0</td>\n",
       "      <td>133.928571</td>\n",
       "      <td>79</td>\n",
       "      <td>0</td>\n",
       "      <td>0</td>\n",
       "      <td>...</td>\n",
       "      <td>0</td>\n",
       "      <td>0</td>\n",
       "      <td>0</td>\n",
       "      <td>0</td>\n",
       "      <td>0</td>\n",
       "      <td>0</td>\n",
       "      <td>1</td>\n",
       "      <td>0</td>\n",
       "      <td>0</td>\n",
       "      <td>0</td>\n",
       "    </tr>\n",
       "    <tr>\n",
       "      <th>2</th>\n",
       "      <td>0.007905</td>\n",
       "      <td>102</td>\n",
       "      <td>2</td>\n",
       "      <td>8</td>\n",
       "      <td>-0.292008</td>\n",
       "      <td>0</td>\n",
       "      <td>3935.017462</td>\n",
       "      <td>90</td>\n",
       "      <td>0</td>\n",
       "      <td>0</td>\n",
       "      <td>...</td>\n",
       "      <td>0</td>\n",
       "      <td>1</td>\n",
       "      <td>0</td>\n",
       "      <td>0</td>\n",
       "      <td>0</td>\n",
       "      <td>0</td>\n",
       "      <td>0</td>\n",
       "      <td>0</td>\n",
       "      <td>0</td>\n",
       "      <td>0</td>\n",
       "    </tr>\n",
       "    <tr>\n",
       "      <th>3</th>\n",
       "      <td>-0.104900</td>\n",
       "      <td>6</td>\n",
       "      <td>1</td>\n",
       "      <td>5</td>\n",
       "      <td>0.587206</td>\n",
       "      <td>0</td>\n",
       "      <td>461.538462</td>\n",
       "      <td>112</td>\n",
       "      <td>0</td>\n",
       "      <td>0</td>\n",
       "      <td>...</td>\n",
       "      <td>0</td>\n",
       "      <td>0</td>\n",
       "      <td>0</td>\n",
       "      <td>0</td>\n",
       "      <td>0</td>\n",
       "      <td>0</td>\n",
       "      <td>0</td>\n",
       "      <td>0</td>\n",
       "      <td>0</td>\n",
       "      <td>1</td>\n",
       "    </tr>\n",
       "    <tr>\n",
       "      <th>4</th>\n",
       "      <td>-0.013057</td>\n",
       "      <td>34</td>\n",
       "      <td>1</td>\n",
       "      <td>6</td>\n",
       "      <td>-0.955335</td>\n",
       "      <td>1</td>\n",
       "      <td>314.705882</td>\n",
       "      <td>95</td>\n",
       "      <td>0</td>\n",
       "      <td>0</td>\n",
       "      <td>...</td>\n",
       "      <td>0</td>\n",
       "      <td>0</td>\n",
       "      <td>0</td>\n",
       "      <td>0</td>\n",
       "      <td>0</td>\n",
       "      <td>0</td>\n",
       "      <td>0</td>\n",
       "      <td>0</td>\n",
       "      <td>0</td>\n",
       "      <td>0</td>\n",
       "    </tr>\n",
       "  </tbody>\n",
       "</table>\n",
       "<p>5 rows × 90 columns</p>\n",
       "</div>"
      ],
      "text/plain": [
       "   CPL_wrt_BC  duration  num_prods  calls  CPL_wrt_self  churn    avg_budget  \\\n",
       "0    0.000000        73          6      2      0.000000      1  10082.152554   \n",
       "1   -0.623618         1          1      3      0.000000      0    133.928571   \n",
       "2    0.007905       102          2      8     -0.292008      0   3935.017462   \n",
       "3   -0.104900         6          1      5      0.587206      0    461.538462   \n",
       "4   -0.013057        34          1      6     -0.955335      1    314.705882   \n",
       "\n",
       "   clicks  client_state_AK  client_state_AL    ...      \\\n",
       "0     107                0                0    ...       \n",
       "1      79                0                0    ...       \n",
       "2      90                0                0    ...       \n",
       "3     112                0                0    ...       \n",
       "4      95                0                0    ...       \n",
       "\n",
       "   BC_Industrial & Commercial  \\\n",
       "0                           0   \n",
       "1                           0   \n",
       "2                           0   \n",
       "3                           0   \n",
       "4                           0   \n",
       "\n",
       "   BC_Personal Services (Weddings, Cleaners, etc.)  BC_Physicians & Surgeons  \\\n",
       "0                                                0                         0   \n",
       "1                                                0                         0   \n",
       "2                                                1                         0   \n",
       "3                                                0                         0   \n",
       "4                                                0                         0   \n",
       "\n",
       "   BC_Real Estate  BC_Religion & Spirituality  BC_Restaurants & Food  \\\n",
       "0               0                           0                      0   \n",
       "1               0                           0                      0   \n",
       "2               0                           0                      0   \n",
       "3               0                           0                      0   \n",
       "4               0                           0                      0   \n",
       "\n",
       "   BC_Shopping, Collectibles & Gifts (General)  BC_Sports & Recreation  \\\n",
       "0                                            0                       0   \n",
       "1                                            1                       0   \n",
       "2                                            0                       0   \n",
       "3                                            0                       0   \n",
       "4                                            0                       0   \n",
       "\n",
       "   BC_Toys & Hobbies  BC_Travel  \n",
       "0                  0          0  \n",
       "1                  0          0  \n",
       "2                  0          0  \n",
       "3                  0          1  \n",
       "4                  0          0  \n",
       "\n",
       "[5 rows x 90 columns]"
      ]
     },
     "execution_count": 9,
     "metadata": {},
     "output_type": "execute_result"
    }
   ],
   "source": [
    "# for categorical variables\n",
    "df = pd.get_dummies(df,columns=['client_state','BC'])\n",
    "df.head()\n"
   ]
  },
  {
   "cell_type": "code",
   "execution_count": 10,
   "metadata": {
    "scrolled": true
   },
   "outputs": [
    {
     "name": "stdout",
     "output_type": "stream",
     "text": [
      "<class 'pandas.core.frame.DataFrame'>\n",
      "RangeIndex: 10000 entries, 0 to 9999\n",
      "Data columns (total 90 columns):\n",
      "CPL_wrt_BC                                         10000 non-null float64\n",
      "duration                                           10000 non-null int64\n",
      "num_prods                                          10000 non-null int64\n",
      "calls                                              10000 non-null int64\n",
      "CPL_wrt_self                                       10000 non-null float64\n",
      "churn                                              10000 non-null int64\n",
      "avg_budget                                         10000 non-null float64\n",
      "clicks                                             10000 non-null int64\n",
      "client_state_AK                                    10000 non-null uint8\n",
      "client_state_AL                                    10000 non-null uint8\n",
      "client_state_AR                                    10000 non-null uint8\n",
      "client_state_AZ                                    10000 non-null uint8\n",
      "client_state_CA                                    10000 non-null uint8\n",
      "client_state_CO                                    10000 non-null uint8\n",
      "client_state_CT                                    10000 non-null uint8\n",
      "client_state_DC                                    10000 non-null uint8\n",
      "client_state_DE                                    10000 non-null uint8\n",
      "client_state_FL                                    10000 non-null uint8\n",
      "client_state_GA                                    10000 non-null uint8\n",
      "client_state_HI                                    10000 non-null uint8\n",
      "client_state_IA                                    10000 non-null uint8\n",
      "client_state_ID                                    10000 non-null uint8\n",
      "client_state_IL                                    10000 non-null uint8\n",
      "client_state_IN                                    10000 non-null uint8\n",
      "client_state_KS                                    10000 non-null uint8\n",
      "client_state_KY                                    10000 non-null uint8\n",
      "client_state_LA                                    10000 non-null uint8\n",
      "client_state_MA                                    10000 non-null uint8\n",
      "client_state_MD                                    10000 non-null uint8\n",
      "client_state_ME                                    10000 non-null uint8\n",
      "client_state_MI                                    10000 non-null uint8\n",
      "client_state_MN                                    10000 non-null uint8\n",
      "client_state_MO                                    10000 non-null uint8\n",
      "client_state_MS                                    10000 non-null uint8\n",
      "client_state_MT                                    10000 non-null uint8\n",
      "client_state_NC                                    10000 non-null uint8\n",
      "client_state_ND                                    10000 non-null uint8\n",
      "client_state_NE                                    10000 non-null uint8\n",
      "client_state_NH                                    10000 non-null uint8\n",
      "client_state_NJ                                    10000 non-null uint8\n",
      "client_state_NM                                    10000 non-null uint8\n",
      "client_state_NV                                    10000 non-null uint8\n",
      "client_state_NY                                    10000 non-null uint8\n",
      "client_state_OH                                    10000 non-null uint8\n",
      "client_state_OK                                    10000 non-null uint8\n",
      "client_state_OR                                    10000 non-null uint8\n",
      "client_state_PA                                    10000 non-null uint8\n",
      "client_state_RI                                    10000 non-null uint8\n",
      "client_state_SC                                    10000 non-null uint8\n",
      "client_state_SD                                    10000 non-null uint8\n",
      "client_state_TN                                    10000 non-null uint8\n",
      "client_state_TX                                    10000 non-null uint8\n",
      "client_state_UT                                    10000 non-null uint8\n",
      "client_state_VA                                    10000 non-null uint8\n",
      "client_state_VT                                    10000 non-null uint8\n",
      "client_state_WA                                    10000 non-null uint8\n",
      "client_state_WI                                    10000 non-null uint8\n",
      "client_state_WV                                    10000 non-null uint8\n",
      "client_state_WY                                    10000 non-null uint8\n",
      "BC_Animals & Pets                                  10000 non-null uint8\n",
      "BC_Apparel / Fashion & Jewelry                     10000 non-null uint8\n",
      "BC_Arts & Entertainment                            10000 non-null uint8\n",
      "BC_Attorneys & Legal Services                      10000 non-null uint8\n",
      "BC_Automotive -- For Sale                          10000 non-null uint8\n",
      "BC_Automotive -- Repair, Service & Parts           10000 non-null uint8\n",
      "BC_Beauty & Personal Care                          10000 non-null uint8\n",
      "BC_Business Opportunities                          10000 non-null uint8\n",
      "BC_Business Services                               10000 non-null uint8\n",
      "BC_Career & Employment                             10000 non-null uint8\n",
      "BC_Community, Garage Sales & Organizations         10000 non-null uint8\n",
      "BC_Computers, Telephony & Internet                 10000 non-null uint8\n",
      "BC_Dentists & Dental Services                      10000 non-null uint8\n",
      "BC_Education & Instruction                         10000 non-null uint8\n",
      "BC_Electronics & Photo                             10000 non-null uint8\n",
      "BC_Farming & Agriculture                           10000 non-null uint8\n",
      "BC_Finance & Insurance                             10000 non-null uint8\n",
      "BC_Furniture                                       10000 non-null uint8\n",
      "BC_Government & Politics                           10000 non-null uint8\n",
      "BC_Health & Fitness                                10000 non-null uint8\n",
      "BC_Home & Home Improvement                         10000 non-null uint8\n",
      "BC_Industrial & Commercial                         10000 non-null uint8\n",
      "BC_Personal Services (Weddings, Cleaners, etc.)    10000 non-null uint8\n",
      "BC_Physicians & Surgeons                           10000 non-null uint8\n",
      "BC_Real Estate                                     10000 non-null uint8\n",
      "BC_Religion & Spirituality                         10000 non-null uint8\n",
      "BC_Restaurants & Food                              10000 non-null uint8\n",
      "BC_Shopping, Collectibles & Gifts (General)        10000 non-null uint8\n",
      "BC_Sports & Recreation                             10000 non-null uint8\n",
      "BC_Toys & Hobbies                                  10000 non-null uint8\n",
      "BC_Travel                                          10000 non-null uint8\n",
      "dtypes: float64(3), int64(5), uint8(82)\n",
      "memory usage: 1.4 MB\n"
     ]
    }
   ],
   "source": [
    "df.info()"
   ]
  },
  {
   "cell_type": "code",
   "execution_count": 11,
   "metadata": {},
   "outputs": [],
   "source": [
    "from sklearn.model_selection import train_test_split\n",
    "\n",
    "from sklearn.metrics import f1_score, recall_score, precision_score, accuracy_score\n",
    "from sklearn.metrics import confusion_matrix\n",
    "from sklearn.metrics import roc_auc_score, roc_curve, auc\n",
    "from sklearn.metrics import classification_report\n",
    "from xgboost import plot_importance\n",
    "from sklearn.model_selection import GridSearchCV\n",
    "\n",
    "from sklearn.linear_model import LogisticRegression\n",
    "from xgboost import XGBClassifier"
   ]
  },
  {
   "cell_type": "code",
   "execution_count": 12,
   "metadata": {},
   "outputs": [
    {
     "data": {
      "text/html": [
       "<div>\n",
       "<style scoped>\n",
       "    .dataframe tbody tr th:only-of-type {\n",
       "        vertical-align: middle;\n",
       "    }\n",
       "\n",
       "    .dataframe tbody tr th {\n",
       "        vertical-align: top;\n",
       "    }\n",
       "\n",
       "    .dataframe thead th {\n",
       "        text-align: right;\n",
       "    }\n",
       "</style>\n",
       "<table border=\"1\" class=\"dataframe\">\n",
       "  <thead>\n",
       "    <tr style=\"text-align: right;\">\n",
       "      <th></th>\n",
       "      <th>CPL_wrt_BC</th>\n",
       "      <th>duration</th>\n",
       "      <th>num_prods</th>\n",
       "      <th>calls</th>\n",
       "      <th>CPL_wrt_self</th>\n",
       "      <th>avg_budget</th>\n",
       "      <th>clicks</th>\n",
       "      <th>client_state_AK</th>\n",
       "      <th>client_state_AL</th>\n",
       "      <th>client_state_AR</th>\n",
       "      <th>...</th>\n",
       "      <th>BC_Industrial &amp; Commercial</th>\n",
       "      <th>BC_Personal Services (Weddings, Cleaners, etc.)</th>\n",
       "      <th>BC_Physicians &amp; Surgeons</th>\n",
       "      <th>BC_Real Estate</th>\n",
       "      <th>BC_Religion &amp; Spirituality</th>\n",
       "      <th>BC_Restaurants &amp; Food</th>\n",
       "      <th>BC_Shopping, Collectibles &amp; Gifts (General)</th>\n",
       "      <th>BC_Sports &amp; Recreation</th>\n",
       "      <th>BC_Toys &amp; Hobbies</th>\n",
       "      <th>BC_Travel</th>\n",
       "    </tr>\n",
       "  </thead>\n",
       "  <tbody>\n",
       "    <tr>\n",
       "      <th>0</th>\n",
       "      <td>0.000000</td>\n",
       "      <td>73</td>\n",
       "      <td>6</td>\n",
       "      <td>2</td>\n",
       "      <td>0.000000</td>\n",
       "      <td>10082.152554</td>\n",
       "      <td>107</td>\n",
       "      <td>0</td>\n",
       "      <td>0</td>\n",
       "      <td>0</td>\n",
       "      <td>...</td>\n",
       "      <td>0</td>\n",
       "      <td>0</td>\n",
       "      <td>0</td>\n",
       "      <td>0</td>\n",
       "      <td>0</td>\n",
       "      <td>0</td>\n",
       "      <td>0</td>\n",
       "      <td>0</td>\n",
       "      <td>0</td>\n",
       "      <td>0</td>\n",
       "    </tr>\n",
       "    <tr>\n",
       "      <th>1</th>\n",
       "      <td>-0.623618</td>\n",
       "      <td>1</td>\n",
       "      <td>1</td>\n",
       "      <td>3</td>\n",
       "      <td>0.000000</td>\n",
       "      <td>133.928571</td>\n",
       "      <td>79</td>\n",
       "      <td>0</td>\n",
       "      <td>0</td>\n",
       "      <td>0</td>\n",
       "      <td>...</td>\n",
       "      <td>0</td>\n",
       "      <td>0</td>\n",
       "      <td>0</td>\n",
       "      <td>0</td>\n",
       "      <td>0</td>\n",
       "      <td>0</td>\n",
       "      <td>1</td>\n",
       "      <td>0</td>\n",
       "      <td>0</td>\n",
       "      <td>0</td>\n",
       "    </tr>\n",
       "    <tr>\n",
       "      <th>2</th>\n",
       "      <td>0.007905</td>\n",
       "      <td>102</td>\n",
       "      <td>2</td>\n",
       "      <td>8</td>\n",
       "      <td>-0.292008</td>\n",
       "      <td>3935.017462</td>\n",
       "      <td>90</td>\n",
       "      <td>0</td>\n",
       "      <td>0</td>\n",
       "      <td>0</td>\n",
       "      <td>...</td>\n",
       "      <td>0</td>\n",
       "      <td>1</td>\n",
       "      <td>0</td>\n",
       "      <td>0</td>\n",
       "      <td>0</td>\n",
       "      <td>0</td>\n",
       "      <td>0</td>\n",
       "      <td>0</td>\n",
       "      <td>0</td>\n",
       "      <td>0</td>\n",
       "    </tr>\n",
       "    <tr>\n",
       "      <th>3</th>\n",
       "      <td>-0.104900</td>\n",
       "      <td>6</td>\n",
       "      <td>1</td>\n",
       "      <td>5</td>\n",
       "      <td>0.587206</td>\n",
       "      <td>461.538462</td>\n",
       "      <td>112</td>\n",
       "      <td>0</td>\n",
       "      <td>0</td>\n",
       "      <td>0</td>\n",
       "      <td>...</td>\n",
       "      <td>0</td>\n",
       "      <td>0</td>\n",
       "      <td>0</td>\n",
       "      <td>0</td>\n",
       "      <td>0</td>\n",
       "      <td>0</td>\n",
       "      <td>0</td>\n",
       "      <td>0</td>\n",
       "      <td>0</td>\n",
       "      <td>1</td>\n",
       "    </tr>\n",
       "    <tr>\n",
       "      <th>4</th>\n",
       "      <td>-0.013057</td>\n",
       "      <td>34</td>\n",
       "      <td>1</td>\n",
       "      <td>6</td>\n",
       "      <td>-0.955335</td>\n",
       "      <td>314.705882</td>\n",
       "      <td>95</td>\n",
       "      <td>0</td>\n",
       "      <td>0</td>\n",
       "      <td>0</td>\n",
       "      <td>...</td>\n",
       "      <td>0</td>\n",
       "      <td>0</td>\n",
       "      <td>0</td>\n",
       "      <td>0</td>\n",
       "      <td>0</td>\n",
       "      <td>0</td>\n",
       "      <td>0</td>\n",
       "      <td>0</td>\n",
       "      <td>0</td>\n",
       "      <td>0</td>\n",
       "    </tr>\n",
       "  </tbody>\n",
       "</table>\n",
       "<p>5 rows × 89 columns</p>\n",
       "</div>"
      ],
      "text/plain": [
       "   CPL_wrt_BC  duration  num_prods  calls  CPL_wrt_self    avg_budget  clicks  \\\n",
       "0    0.000000        73          6      2      0.000000  10082.152554     107   \n",
       "1   -0.623618         1          1      3      0.000000    133.928571      79   \n",
       "2    0.007905       102          2      8     -0.292008   3935.017462      90   \n",
       "3   -0.104900         6          1      5      0.587206    461.538462     112   \n",
       "4   -0.013057        34          1      6     -0.955335    314.705882      95   \n",
       "\n",
       "   client_state_AK  client_state_AL  client_state_AR    ...      \\\n",
       "0                0                0                0    ...       \n",
       "1                0                0                0    ...       \n",
       "2                0                0                0    ...       \n",
       "3                0                0                0    ...       \n",
       "4                0                0                0    ...       \n",
       "\n",
       "   BC_Industrial & Commercial  \\\n",
       "0                           0   \n",
       "1                           0   \n",
       "2                           0   \n",
       "3                           0   \n",
       "4                           0   \n",
       "\n",
       "   BC_Personal Services (Weddings, Cleaners, etc.)  BC_Physicians & Surgeons  \\\n",
       "0                                                0                         0   \n",
       "1                                                0                         0   \n",
       "2                                                1                         0   \n",
       "3                                                0                         0   \n",
       "4                                                0                         0   \n",
       "\n",
       "   BC_Real Estate  BC_Religion & Spirituality  BC_Restaurants & Food  \\\n",
       "0               0                           0                      0   \n",
       "1               0                           0                      0   \n",
       "2               0                           0                      0   \n",
       "3               0                           0                      0   \n",
       "4               0                           0                      0   \n",
       "\n",
       "   BC_Shopping, Collectibles & Gifts (General)  BC_Sports & Recreation  \\\n",
       "0                                            0                       0   \n",
       "1                                            1                       0   \n",
       "2                                            0                       0   \n",
       "3                                            0                       0   \n",
       "4                                            0                       0   \n",
       "\n",
       "   BC_Toys & Hobbies  BC_Travel  \n",
       "0                  0          0  \n",
       "1                  0          0  \n",
       "2                  0          0  \n",
       "3                  0          1  \n",
       "4                  0          0  \n",
       "\n",
       "[5 rows x 89 columns]"
      ]
     },
     "execution_count": 12,
     "metadata": {},
     "output_type": "execute_result"
    }
   ],
   "source": [
    "x = df.drop('churn',1)\n",
    "x.head()"
   ]
  },
  {
   "cell_type": "code",
   "execution_count": 13,
   "metadata": {},
   "outputs": [
    {
     "data": {
      "text/plain": [
       "0    1\n",
       "1    0\n",
       "2    0\n",
       "3    0\n",
       "4    1\n",
       "Name: churn, dtype: int64"
      ]
     },
     "execution_count": 13,
     "metadata": {},
     "output_type": "execute_result"
    }
   ],
   "source": [
    "y = df['churn']\n",
    "y.head()"
   ]
  },
  {
   "cell_type": "code",
   "execution_count": 14,
   "metadata": {
    "scrolled": true
   },
   "outputs": [
    {
     "name": "stdout",
     "output_type": "stream",
     "text": [
      "<class 'pandas.core.frame.DataFrame'>\n",
      "RangeIndex: 10000 entries, 0 to 9999\n",
      "Data columns (total 89 columns):\n",
      "CPL_wrt_BC                                         10000 non-null float64\n",
      "duration                                           10000 non-null int64\n",
      "num_prods                                          10000 non-null int64\n",
      "calls                                              10000 non-null int64\n",
      "CPL_wrt_self                                       10000 non-null float64\n",
      "avg_budget                                         10000 non-null float64\n",
      "clicks                                             10000 non-null int64\n",
      "client_state_AK                                    10000 non-null uint8\n",
      "client_state_AL                                    10000 non-null uint8\n",
      "client_state_AR                                    10000 non-null uint8\n",
      "client_state_AZ                                    10000 non-null uint8\n",
      "client_state_CA                                    10000 non-null uint8\n",
      "client_state_CO                                    10000 non-null uint8\n",
      "client_state_CT                                    10000 non-null uint8\n",
      "client_state_DC                                    10000 non-null uint8\n",
      "client_state_DE                                    10000 non-null uint8\n",
      "client_state_FL                                    10000 non-null uint8\n",
      "client_state_GA                                    10000 non-null uint8\n",
      "client_state_HI                                    10000 non-null uint8\n",
      "client_state_IA                                    10000 non-null uint8\n",
      "client_state_ID                                    10000 non-null uint8\n",
      "client_state_IL                                    10000 non-null uint8\n",
      "client_state_IN                                    10000 non-null uint8\n",
      "client_state_KS                                    10000 non-null uint8\n",
      "client_state_KY                                    10000 non-null uint8\n",
      "client_state_LA                                    10000 non-null uint8\n",
      "client_state_MA                                    10000 non-null uint8\n",
      "client_state_MD                                    10000 non-null uint8\n",
      "client_state_ME                                    10000 non-null uint8\n",
      "client_state_MI                                    10000 non-null uint8\n",
      "client_state_MN                                    10000 non-null uint8\n",
      "client_state_MO                                    10000 non-null uint8\n",
      "client_state_MS                                    10000 non-null uint8\n",
      "client_state_MT                                    10000 non-null uint8\n",
      "client_state_NC                                    10000 non-null uint8\n",
      "client_state_ND                                    10000 non-null uint8\n",
      "client_state_NE                                    10000 non-null uint8\n",
      "client_state_NH                                    10000 non-null uint8\n",
      "client_state_NJ                                    10000 non-null uint8\n",
      "client_state_NM                                    10000 non-null uint8\n",
      "client_state_NV                                    10000 non-null uint8\n",
      "client_state_NY                                    10000 non-null uint8\n",
      "client_state_OH                                    10000 non-null uint8\n",
      "client_state_OK                                    10000 non-null uint8\n",
      "client_state_OR                                    10000 non-null uint8\n",
      "client_state_PA                                    10000 non-null uint8\n",
      "client_state_RI                                    10000 non-null uint8\n",
      "client_state_SC                                    10000 non-null uint8\n",
      "client_state_SD                                    10000 non-null uint8\n",
      "client_state_TN                                    10000 non-null uint8\n",
      "client_state_TX                                    10000 non-null uint8\n",
      "client_state_UT                                    10000 non-null uint8\n",
      "client_state_VA                                    10000 non-null uint8\n",
      "client_state_VT                                    10000 non-null uint8\n",
      "client_state_WA                                    10000 non-null uint8\n",
      "client_state_WI                                    10000 non-null uint8\n",
      "client_state_WV                                    10000 non-null uint8\n",
      "client_state_WY                                    10000 non-null uint8\n",
      "BC_Animals & Pets                                  10000 non-null uint8\n",
      "BC_Apparel / Fashion & Jewelry                     10000 non-null uint8\n",
      "BC_Arts & Entertainment                            10000 non-null uint8\n",
      "BC_Attorneys & Legal Services                      10000 non-null uint8\n",
      "BC_Automotive -- For Sale                          10000 non-null uint8\n",
      "BC_Automotive -- Repair, Service & Parts           10000 non-null uint8\n",
      "BC_Beauty & Personal Care                          10000 non-null uint8\n",
      "BC_Business Opportunities                          10000 non-null uint8\n",
      "BC_Business Services                               10000 non-null uint8\n",
      "BC_Career & Employment                             10000 non-null uint8\n",
      "BC_Community, Garage Sales & Organizations         10000 non-null uint8\n",
      "BC_Computers, Telephony & Internet                 10000 non-null uint8\n",
      "BC_Dentists & Dental Services                      10000 non-null uint8\n",
      "BC_Education & Instruction                         10000 non-null uint8\n",
      "BC_Electronics & Photo                             10000 non-null uint8\n",
      "BC_Farming & Agriculture                           10000 non-null uint8\n",
      "BC_Finance & Insurance                             10000 non-null uint8\n",
      "BC_Furniture                                       10000 non-null uint8\n",
      "BC_Government & Politics                           10000 non-null uint8\n",
      "BC_Health & Fitness                                10000 non-null uint8\n",
      "BC_Home & Home Improvement                         10000 non-null uint8\n",
      "BC_Industrial & Commercial                         10000 non-null uint8\n",
      "BC_Personal Services (Weddings, Cleaners, etc.)    10000 non-null uint8\n",
      "BC_Physicians & Surgeons                           10000 non-null uint8\n",
      "BC_Real Estate                                     10000 non-null uint8\n",
      "BC_Religion & Spirituality                         10000 non-null uint8\n",
      "BC_Restaurants & Food                              10000 non-null uint8\n",
      "BC_Shopping, Collectibles & Gifts (General)        10000 non-null uint8\n",
      "BC_Sports & Recreation                             10000 non-null uint8\n",
      "BC_Toys & Hobbies                                  10000 non-null uint8\n",
      "BC_Travel                                          10000 non-null uint8\n",
      "dtypes: float64(3), int64(4), uint8(82)\n",
      "memory usage: 1.3 MB\n"
     ]
    }
   ],
   "source": [
    "x.info()"
   ]
  },
  {
   "cell_type": "code",
   "execution_count": 15,
   "metadata": {},
   "outputs": [
    {
     "name": "stdout",
     "output_type": "stream",
     "text": [
      "(8000, 89) (8000,)\n",
      "(2000, 89) (2000,)\n"
     ]
    }
   ],
   "source": [
    "# split data\n",
    "X_train, X_test, Y_train, Y_test = train_test_split(x, y, test_size = 0.2, random_state=9)\n",
    "print(X_train.shape, Y_train.shape)\n",
    "print(X_test.shape, Y_test.shape)"
   ]
  },
  {
   "cell_type": "code",
   "execution_count": 16,
   "metadata": {},
   "outputs": [],
   "source": [
    "def model_accuracy(model, X_test, Y_test):\n",
    "    # accuracy\n",
    "    acc = model.score(X_test, Y_test) \n",
    "    print('Accuracy: ' , acc)\n",
    "    \n",
    "    # prediction\n",
    "    ypred = model.predict(X_test)\n",
    "    \n",
    "    # confusion matrix\n",
    "    cm = confusion_matrix(Y_test,ypred,labels=[0,1])\n",
    "    print('Confusion matrix:')    \n",
    "    print(cm)\n",
    "    \n",
    "    # Area Under the Receiver Operating Characteristic Curve\n",
    "    roc = roc_auc_score(Y_test, ypred)\n",
    "    print('ROC: ' , roc)\n",
    "    \n",
    "    print(classification_report(Y_test, ypred))"
   ]
  },
  {
   "cell_type": "code",
   "execution_count": 17,
   "metadata": {},
   "outputs": [],
   "source": [
    "def plot_roc(model, X_test, Y_test):\n",
    "    probs = model.predict_proba(X_test)\n",
    "    preds = probs[:,1]\n",
    "    fpr, tpr, threshold = roc_curve(Y_test, preds)\n",
    "    roc_auc = auc(fpr, tpr)\n",
    "    \n",
    "    plt.plot(fpr, tpr, label='Area = %0.2f' % roc_auc)\n",
    "    plt.plot([0, 1], [0, 1],'r--')\n",
    "    plt.xlim([0.0, 1.0])\n",
    "    plt.ylim([0.0, 1.05])\n",
    "    plt.xlabel('False Positive Rate')\n",
    "    plt.ylabel('True Positive Rate')\n",
    "    plt.title('Receiver operating characteristic')\n",
    "    plt.legend(loc=\"lower right\")\n",
    "    plt.show()"
   ]
  },
  {
   "cell_type": "code",
   "execution_count": null,
   "metadata": {},
   "outputs": [],
   "source": []
  },
  {
   "cell_type": "markdown",
   "metadata": {},
   "source": [
    "## Logistic regresion"
   ]
  },
  {
   "cell_type": "code",
   "execution_count": 18,
   "metadata": {},
   "outputs": [
    {
     "name": "stdout",
     "output_type": "stream",
     "text": [
      "Wall time: 707 ms\n"
     ]
    }
   ],
   "source": [
    "%%time\n",
    "logit_params = {'C': [.01, .1, 1., 10., 100.]}\n",
    "logit = LogisticRegression()\n",
    "gsmodel_1 = GridSearchCV(logit, logit_params, cv=4)\n",
    "gsmodel_1.fit(X_train, Y_train)"
   ]
  },
  {
   "cell_type": "code",
   "execution_count": 19,
   "metadata": {},
   "outputs": [
    {
     "name": "stdout",
     "output_type": "stream",
     "text": [
      "Accuracy:  0.8\n",
      "Confusion matrix:\n",
      "[[1600    0]\n",
      " [ 400    0]]\n",
      "ROC:  0.5\n",
      "              precision    recall  f1-score   support\n",
      "\n",
      "           0       0.80      1.00      0.89      1600\n",
      "           1       0.00      0.00      0.00       400\n",
      "\n",
      "   micro avg       0.80      0.80      0.80      2000\n",
      "   macro avg       0.40      0.50      0.44      2000\n",
      "weighted avg       0.64      0.80      0.71      2000\n",
      "\n"
     ]
    }
   ],
   "source": [
    "model_accuracy(gsmodel_1,X_test,Y_test)"
   ]
  },
  {
   "cell_type": "code",
   "execution_count": 20,
   "metadata": {},
   "outputs": [
    {
     "data": {
      "image/png": "[encoded data removed]",
      "text/plain": [
       "<Figure size 432x288 with 1 Axes>"
      ]
     },
     "metadata": {
      "needs_background": "light"
     },
     "output_type": "display_data"
    }
   ],
   "source": [
    "plot_roc(gsmodel_1.best_estimator_,X_test,Y_test)"
   ]
  },
  {
   "cell_type": "code",
   "execution_count": 21,
   "metadata": {},
   "outputs": [],
   "source": [
    "from sklearn.model_selection import cross_val_score"
   ]
  },
  {
   "cell_type": "code",
   "execution_count": 22,
   "metadata": {},
   "outputs": [
    {
     "name": "stdout",
     "output_type": "stream",
     "text": [
      "[0.8   0.8   0.8   0.8   0.799]\n",
      "0.7998000000000001\n",
      "Wall time: 197 ms\n"
     ]
    }
   ],
   "source": [
    "%%time\n",
    "# 5-fold cross-validation\n",
    "logit_scores = cross_val_score(gsmodel_1.best_estimator_, x, y, scoring='accuracy', cv=5)\n",
    "print (logit_scores)\n",
    "print (logit_scores.mean())"
   ]
  },
  {
   "cell_type": "markdown",
   "metadata": {},
   "source": [
    "## Decision tree"
   ]
  },
  {
   "cell_type": "code",
   "execution_count": 23,
   "metadata": {},
   "outputs": [],
   "source": [
    "from sklearn.tree import DecisionTreeClassifier"
   ]
  },
  {
   "cell_type": "code",
   "execution_count": 24,
   "metadata": {},
   "outputs": [
    {
     "name": "stdout",
     "output_type": "stream",
     "text": [
      "Wall time: 3.77 s\n"
     ]
    }
   ],
   "source": [
    "%%time\n",
    "tree_params = {'min_samples_split': [2,4, 8, 16], \n",
    "               'min_samples_leaf': [1,2, 4, 8]}\n",
    "gsmodel_2 = GridSearchCV(DecisionTreeClassifier(), tree_params, cv=4)\n",
    "gsmodel_2.fit(X_train, Y_train)"
   ]
  },
  {
   "cell_type": "code",
   "execution_count": 25,
   "metadata": {},
   "outputs": [
    {
     "name": "stdout",
     "output_type": "stream",
     "text": [
      "Accuracy:  0.787\n",
      "Confusion matrix:\n",
      "[[1448  152]\n",
      " [ 274  126]]\n",
      "ROC:  0.61\n",
      "              precision    recall  f1-score   support\n",
      "\n",
      "           0       0.84      0.91      0.87      1600\n",
      "           1       0.45      0.32      0.37       400\n",
      "\n",
      "   micro avg       0.79      0.79      0.79      2000\n",
      "   macro avg       0.65      0.61      0.62      2000\n",
      "weighted avg       0.76      0.79      0.77      2000\n",
      "\n"
     ]
    }
   ],
   "source": [
    "model_accuracy(gsmodel_2,X_test,Y_test)"
   ]
  },
  {
   "cell_type": "code",
   "execution_count": 26,
   "metadata": {},
   "outputs": [
    {
     "data": {
      "text/plain": [
       "DecisionTreeClassifier(class_weight=None, criterion='gini', max_depth=None,\n",
       "            max_features=None, max_leaf_nodes=None,\n",
       "            min_impurity_decrease=0.0, min_impurity_split=None,\n",
       "            min_samples_leaf=8, min_samples_split=4,\n",
       "            min_weight_fraction_leaf=0.0, presort=False, random_state=None,\n",
       "            splitter='best')"
      ]
     },
     "execution_count": 26,
     "metadata": {},
     "output_type": "execute_result"
    }
   ],
   "source": [
    "gsmodel_2.best_estimator_"
   ]
  },
  {
   "cell_type": "code",
   "execution_count": 27,
   "metadata": {},
   "outputs": [
    {
     "data": {
      "image/png": "[encoded data removed]",
      "text/plain": [
       "<Figure size 432x288 with 1 Axes>"
      ]
     },
     "metadata": {
      "needs_background": "light"
     },
     "output_type": "display_data"
    }
   ],
   "source": [
    "plot_roc(gsmodel_2.best_estimator_,X_test,Y_test)"
   ]
  },
  {
   "cell_type": "code",
   "execution_count": 28,
   "metadata": {},
   "outputs": [
    {
     "name": "stdout",
     "output_type": "stream",
     "text": [
      "[0.794  0.7975 0.7875 0.791  0.7925]\n",
      "0.7925\n",
      "Wall time: 343 ms\n"
     ]
    }
   ],
   "source": [
    "%%time\n",
    "# evaluating the model using 10-fold cross-validation\n",
    "tree_scores = cross_val_score(gsmodel_2.best_estimator_, x, y, scoring='accuracy', cv=5)\n",
    "print (tree_scores)\n",
    "print (tree_scores.mean())"
   ]
  },
  {
   "cell_type": "code",
   "execution_count": 29,
   "metadata": {
    "scrolled": true
   },
   "outputs": [
    {
     "data": {
      "text/html": [
       "<div>\n",
       "<style scoped>\n",
       "    .dataframe tbody tr th:only-of-type {\n",
       "        vertical-align: middle;\n",
       "    }\n",
       "\n",
       "    .dataframe tbody tr th {\n",
       "        vertical-align: top;\n",
       "    }\n",
       "\n",
       "    .dataframe thead th {\n",
       "        text-align: right;\n",
       "    }\n",
       "</style>\n",
       "<table border=\"1\" class=\"dataframe\">\n",
       "  <thead>\n",
       "    <tr style=\"text-align: right;\">\n",
       "      <th></th>\n",
       "      <th>score</th>\n",
       "    </tr>\n",
       "  </thead>\n",
       "  <tbody>\n",
       "    <tr>\n",
       "      <th>CPL_wrt_BC</th>\n",
       "      <td>0.270852</td>\n",
       "    </tr>\n",
       "    <tr>\n",
       "      <th>CPL_wrt_self</th>\n",
       "      <td>0.211135</td>\n",
       "    </tr>\n",
       "    <tr>\n",
       "      <th>duration</th>\n",
       "      <td>0.201935</td>\n",
       "    </tr>\n",
       "    <tr>\n",
       "      <th>avg_budget</th>\n",
       "      <td>0.137859</td>\n",
       "    </tr>\n",
       "    <tr>\n",
       "      <th>clicks</th>\n",
       "      <td>0.066938</td>\n",
       "    </tr>\n",
       "    <tr>\n",
       "      <th>calls</th>\n",
       "      <td>0.046048</td>\n",
       "    </tr>\n",
       "    <tr>\n",
       "      <th>BC_Education &amp; Instruction</th>\n",
       "      <td>0.007659</td>\n",
       "    </tr>\n",
       "    <tr>\n",
       "      <th>num_prods</th>\n",
       "      <td>0.007565</td>\n",
       "    </tr>\n",
       "    <tr>\n",
       "      <th>BC_Home &amp; Home Improvement</th>\n",
       "      <td>0.006199</td>\n",
       "    </tr>\n",
       "    <tr>\n",
       "      <th>BC_Shopping, Collectibles &amp; Gifts (General)</th>\n",
       "      <td>0.005300</td>\n",
       "    </tr>\n",
       "    <tr>\n",
       "      <th>BC_Automotive -- For Sale</th>\n",
       "      <td>0.004775</td>\n",
       "    </tr>\n",
       "    <tr>\n",
       "      <th>client_state_PA</th>\n",
       "      <td>0.004742</td>\n",
       "    </tr>\n",
       "    <tr>\n",
       "      <th>BC_Automotive -- Repair, Service &amp; Parts</th>\n",
       "      <td>0.004536</td>\n",
       "    </tr>\n",
       "    <tr>\n",
       "      <th>client_state_CA</th>\n",
       "      <td>0.004175</td>\n",
       "    </tr>\n",
       "    <tr>\n",
       "      <th>BC_Furniture</th>\n",
       "      <td>0.003889</td>\n",
       "    </tr>\n",
       "    <tr>\n",
       "      <th>client_state_GA</th>\n",
       "      <td>0.002882</td>\n",
       "    </tr>\n",
       "    <tr>\n",
       "      <th>client_state_IL</th>\n",
       "      <td>0.002809</td>\n",
       "    </tr>\n",
       "    <tr>\n",
       "      <th>client_state_VA</th>\n",
       "      <td>0.001484</td>\n",
       "    </tr>\n",
       "    <tr>\n",
       "      <th>BC_Dentists &amp; Dental Services</th>\n",
       "      <td>0.001439</td>\n",
       "    </tr>\n",
       "    <tr>\n",
       "      <th>client_state_MI</th>\n",
       "      <td>0.001397</td>\n",
       "    </tr>\n",
       "  </tbody>\n",
       "</table>\n",
       "</div>"
      ],
      "text/plain": [
       "                                                score\n",
       "CPL_wrt_BC                                   0.270852\n",
       "CPL_wrt_self                                 0.211135\n",
       "duration                                     0.201935\n",
       "avg_budget                                   0.137859\n",
       "clicks                                       0.066938\n",
       "calls                                        0.046048\n",
       "BC_Education & Instruction                   0.007659\n",
       "num_prods                                    0.007565\n",
       "BC_Home & Home Improvement                   0.006199\n",
       "BC_Shopping, Collectibles & Gifts (General)  0.005300\n",
       "BC_Automotive -- For Sale                    0.004775\n",
       "client_state_PA                              0.004742\n",
       "BC_Automotive -- Repair, Service & Parts     0.004536\n",
       "client_state_CA                              0.004175\n",
       "BC_Furniture                                 0.003889\n",
       "client_state_GA                              0.002882\n",
       "client_state_IL                              0.002809\n",
       "client_state_VA                              0.001484\n",
       "BC_Dentists & Dental Services                0.001439\n",
       "client_state_MI                              0.001397"
      ]
     },
     "execution_count": 29,
     "metadata": {},
     "output_type": "execute_result"
    }
   ],
   "source": [
    "# examining the feature importances\n",
    "pd.DataFrame(index=x.columns, data=np.transpose(gsmodel_2.best_estimator_.feature_importances_ ),columns=['score']).sort_values(by='score',ascending=False).head(20)"
   ]
  },
  {
   "cell_type": "markdown",
   "metadata": {},
   "source": [
    "## Random forest"
   ]
  },
  {
   "cell_type": "code",
   "execution_count": 30,
   "metadata": {},
   "outputs": [],
   "source": [
    "from sklearn.ensemble import RandomForestClassifier"
   ]
  },
  {
   "cell_type": "code",
   "execution_count": 31,
   "metadata": {},
   "outputs": [
    {
     "name": "stdout",
     "output_type": "stream",
     "text": [
      "Wall time: 10 s\n"
     ]
    }
   ],
   "source": [
    "%%time\n",
    "forest_params = {'oob_score': [True, False], \n",
    "                 'min_samples_split': [2,4,8, 16], \n",
    "                 'min_samples_leaf': [1,2,4, 8]}\n",
    "gsmodel_3 = GridSearchCV(RandomForestClassifier(), forest_params, cv=4)\n",
    "gsmodel_3.fit(X_train, Y_train)"
   ]
  },
  {
   "cell_type": "code",
   "execution_count": 32,
   "metadata": {},
   "outputs": [
    {
     "name": "stdout",
     "output_type": "stream",
     "text": [
      "Accuracy:  0.819\n",
      "Confusion matrix:\n",
      "[[1553   47]\n",
      " [ 315   85]]\n",
      "ROC:  0.5915625\n",
      "              precision    recall  f1-score   support\n",
      "\n",
      "           0       0.83      0.97      0.90      1600\n",
      "           1       0.64      0.21      0.32       400\n",
      "\n",
      "   micro avg       0.82      0.82      0.82      2000\n",
      "   macro avg       0.74      0.59      0.61      2000\n",
      "weighted avg       0.79      0.82      0.78      2000\n",
      "\n"
     ]
    }
   ],
   "source": [
    "model_accuracy(gsmodel_3,X_test,Y_test)"
   ]
  },
  {
   "cell_type": "code",
   "execution_count": 33,
   "metadata": {},
   "outputs": [
    {
     "data": {
      "text/plain": [
       "RandomForestClassifier(bootstrap=True, class_weight=None, criterion='gini',\n",
       "            max_depth=None, max_features='auto', max_leaf_nodes=None,\n",
       "            min_impurity_decrease=0.0, min_impurity_split=None,\n",
       "            min_samples_leaf=1, min_samples_split=16,\n",
       "            min_weight_fraction_leaf=0.0, n_estimators=10, n_jobs=None,\n",
       "            oob_score=False, random_state=None, verbose=0,\n",
       "            warm_start=False)"
      ]
     },
     "execution_count": 33,
     "metadata": {},
     "output_type": "execute_result"
    }
   ],
   "source": [
    "gsmodel_3.best_estimator_"
   ]
  },
  {
   "cell_type": "code",
   "execution_count": 34,
   "metadata": {},
   "outputs": [
    {
     "data": {
      "image/png": "[encoded data removed]",
      "text/plain": [
       "<Figure size 432x288 with 1 Axes>"
      ]
     },
     "metadata": {
      "needs_background": "light"
     },
     "output_type": "display_data"
    }
   ],
   "source": [
    "plot_roc(gsmodel_3.best_estimator_,X_test,Y_test)"
   ]
  },
  {
   "cell_type": "code",
   "execution_count": 35,
   "metadata": {},
   "outputs": [
    {
     "name": "stdout",
     "output_type": "stream",
     "text": [
      "[0.8235 0.8225 0.827  0.8275 0.8225]\n",
      "0.8246\n",
      "Wall time: 453 ms\n"
     ]
    }
   ],
   "source": [
    "%%time\n",
    "# evaluating the model using 5-fold cross-validation\n",
    "rf_scores = cross_val_score(gsmodel_3.best_estimator_, x, y, scoring='accuracy', cv=5)\n",
    "print (rf_scores)\n",
    "print (rf_scores.mean())"
   ]
  },
  {
   "cell_type": "markdown",
   "metadata": {},
   "source": [
    "## GB"
   ]
  },
  {
   "cell_type": "code",
   "execution_count": 36,
   "metadata": {},
   "outputs": [],
   "source": [
    "from sklearn.ensemble import GradientBoostingClassifier"
   ]
  },
  {
   "cell_type": "code",
   "execution_count": 37,
   "metadata": {},
   "outputs": [
    {
     "name": "stdout",
     "output_type": "stream",
     "text": [
      "Wall time: 12.2 s\n"
     ]
    }
   ],
   "source": [
    "%%time\n",
    "gb_params = {'subsample': [1., .8, .5]}\n",
    "\n",
    "gsmodel_4 = GridSearchCV(GradientBoostingClassifier(), gb_params, cv=4)\n",
    "gsmodel_4.fit(X_train,Y_train)"
   ]
  },
  {
   "cell_type": "code",
   "execution_count": 38,
   "metadata": {},
   "outputs": [
    {
     "name": "stdout",
     "output_type": "stream",
     "text": [
      "Accuracy:  0.8215\n",
      "Confusion matrix:\n",
      "[[1551   49]\n",
      " [ 308   92]]\n",
      "ROC:  0.5996875\n",
      "              precision    recall  f1-score   support\n",
      "\n",
      "           0       0.83      0.97      0.90      1600\n",
      "           1       0.65      0.23      0.34       400\n",
      "\n",
      "   micro avg       0.82      0.82      0.82      2000\n",
      "   macro avg       0.74      0.60      0.62      2000\n",
      "weighted avg       0.80      0.82      0.79      2000\n",
      "\n"
     ]
    }
   ],
   "source": [
    "model_accuracy(gsmodel_4.best_estimator_,X_test,Y_test)"
   ]
  },
  {
   "cell_type": "code",
   "execution_count": 39,
   "metadata": {},
   "outputs": [
    {
     "data": {
      "text/plain": [
       "GradientBoostingClassifier(criterion='friedman_mse', init=None,\n",
       "              learning_rate=0.1, loss='deviance', max_depth=3,\n",
       "              max_features=None, max_leaf_nodes=None,\n",
       "              min_impurity_decrease=0.0, min_impurity_split=None,\n",
       "              min_samples_leaf=1, min_samples_split=2,\n",
       "              min_weight_fraction_leaf=0.0, n_estimators=100,\n",
       "              n_iter_no_change=None, presort='auto', random_state=None,\n",
       "              subsample=1.0, tol=0.0001, validation_fraction=0.1,\n",
       "              verbose=0, warm_start=False)"
      ]
     },
     "execution_count": 39,
     "metadata": {},
     "output_type": "execute_result"
    }
   ],
   "source": [
    "gsmodel_4.best_estimator_"
   ]
  },
  {
   "cell_type": "code",
   "execution_count": 40,
   "metadata": {},
   "outputs": [
    {
     "name": "stdout",
     "output_type": "stream",
     "text": [
      "[0.825  0.8325 0.834  0.8355 0.833 ]\n",
      "0.8320000000000001\n",
      "Wall time: 5.67 s\n"
     ]
    }
   ],
   "source": [
    "%%time\n",
    "# evaluating the model using 5-fold cross-validation\n",
    "gb_scores = cross_val_score(gsmodel_4.best_estimator_, x, y, scoring='accuracy', cv=5)\n",
    "print (gb_scores)\n",
    "print (gb_scores.mean())"
   ]
  },
  {
   "cell_type": "code",
   "execution_count": 41,
   "metadata": {},
   "outputs": [
    {
     "data": {
      "text/html": [
       "<div>\n",
       "<style scoped>\n",
       "    .dataframe tbody tr th:only-of-type {\n",
       "        vertical-align: middle;\n",
       "    }\n",
       "\n",
       "    .dataframe tbody tr th {\n",
       "        vertical-align: top;\n",
       "    }\n",
       "\n",
       "    .dataframe thead th {\n",
       "        text-align: right;\n",
       "    }\n",
       "</style>\n",
       "<table border=\"1\" class=\"dataframe\">\n",
       "  <thead>\n",
       "    <tr style=\"text-align: right;\">\n",
       "      <th></th>\n",
       "      <th>score</th>\n",
       "    </tr>\n",
       "  </thead>\n",
       "  <tbody>\n",
       "    <tr>\n",
       "      <th>duration</th>\n",
       "      <td>0.408604</td>\n",
       "    </tr>\n",
       "    <tr>\n",
       "      <th>CPL_wrt_self</th>\n",
       "      <td>0.228205</td>\n",
       "    </tr>\n",
       "    <tr>\n",
       "      <th>CPL_wrt_BC</th>\n",
       "      <td>0.175110</td>\n",
       "    </tr>\n",
       "    <tr>\n",
       "      <th>avg_budget</th>\n",
       "      <td>0.075953</td>\n",
       "    </tr>\n",
       "    <tr>\n",
       "      <th>BC_Shopping, Collectibles &amp; Gifts (General)</th>\n",
       "      <td>0.024920</td>\n",
       "    </tr>\n",
       "    <tr>\n",
       "      <th>clicks</th>\n",
       "      <td>0.008815</td>\n",
       "    </tr>\n",
       "    <tr>\n",
       "      <th>BC_Education &amp; Instruction</th>\n",
       "      <td>0.008350</td>\n",
       "    </tr>\n",
       "    <tr>\n",
       "      <th>BC_Furniture</th>\n",
       "      <td>0.006566</td>\n",
       "    </tr>\n",
       "    <tr>\n",
       "      <th>BC_Arts &amp; Entertainment</th>\n",
       "      <td>0.005725</td>\n",
       "    </tr>\n",
       "    <tr>\n",
       "      <th>calls</th>\n",
       "      <td>0.005223</td>\n",
       "    </tr>\n",
       "    <tr>\n",
       "      <th>client_state_CT</th>\n",
       "      <td>0.005008</td>\n",
       "    </tr>\n",
       "    <tr>\n",
       "      <th>BC_Career &amp; Employment</th>\n",
       "      <td>0.004841</td>\n",
       "    </tr>\n",
       "    <tr>\n",
       "      <th>BC_Automotive -- Repair, Service &amp; Parts</th>\n",
       "      <td>0.003996</td>\n",
       "    </tr>\n",
       "    <tr>\n",
       "      <th>BC_Automotive -- For Sale</th>\n",
       "      <td>0.003664</td>\n",
       "    </tr>\n",
       "    <tr>\n",
       "      <th>client_state_IA</th>\n",
       "      <td>0.003189</td>\n",
       "    </tr>\n",
       "    <tr>\n",
       "      <th>BC_Animals &amp; Pets</th>\n",
       "      <td>0.002827</td>\n",
       "    </tr>\n",
       "    <tr>\n",
       "      <th>client_state_OK</th>\n",
       "      <td>0.002804</td>\n",
       "    </tr>\n",
       "    <tr>\n",
       "      <th>BC_Personal Services (Weddings, Cleaners, etc.)</th>\n",
       "      <td>0.002538</td>\n",
       "    </tr>\n",
       "    <tr>\n",
       "      <th>client_state_OR</th>\n",
       "      <td>0.002445</td>\n",
       "    </tr>\n",
       "    <tr>\n",
       "      <th>client_state_PA</th>\n",
       "      <td>0.002274</td>\n",
       "    </tr>\n",
       "  </tbody>\n",
       "</table>\n",
       "</div>"
      ],
      "text/plain": [
       "                                                    score\n",
       "duration                                         0.408604\n",
       "CPL_wrt_self                                     0.228205\n",
       "CPL_wrt_BC                                       0.175110\n",
       "avg_budget                                       0.075953\n",
       "BC_Shopping, Collectibles & Gifts (General)      0.024920\n",
       "clicks                                           0.008815\n",
       "BC_Education & Instruction                       0.008350\n",
       "BC_Furniture                                     0.006566\n",
       "BC_Arts & Entertainment                          0.005725\n",
       "calls                                            0.005223\n",
       "client_state_CT                                  0.005008\n",
       "BC_Career & Employment                           0.004841\n",
       "BC_Automotive -- Repair, Service & Parts         0.003996\n",
       "BC_Automotive -- For Sale                        0.003664\n",
       "client_state_IA                                  0.003189\n",
       "BC_Animals & Pets                                0.002827\n",
       "client_state_OK                                  0.002804\n",
       "BC_Personal Services (Weddings, Cleaners, etc.)  0.002538\n",
       "client_state_OR                                  0.002445\n",
       "client_state_PA                                  0.002274"
      ]
     },
     "execution_count": 41,
     "metadata": {},
     "output_type": "execute_result"
    }
   ],
   "source": [
    "# examining the feature importances\n",
    "pd.DataFrame(index=x.columns, data=np.transpose(gsmodel_4.best_estimator_.feature_importances_ ),columns=['score']).sort_values(by='score',ascending=False).head(20)"
   ]
  },
  {
   "cell_type": "code",
   "execution_count": null,
   "metadata": {},
   "outputs": [],
   "source": []
  },
  {
   "cell_type": "code",
   "execution_count": null,
   "metadata": {},
   "outputs": [],
   "source": []
  },
  {
   "cell_type": "code",
   "execution_count": null,
   "metadata": {},
   "outputs": [],
   "source": []
  },
  {
   "cell_type": "code",
   "execution_count": null,
   "metadata": {},
   "outputs": [],
   "source": []
  },
  {
   "cell_type": "code",
   "execution_count": null,
   "metadata": {},
   "outputs": [],
   "source": []
  },
  {
   "cell_type": "code",
   "execution_count": null,
   "metadata": {},
   "outputs": [],
   "source": []
  }
 ],
 "metadata": {
  "kernelspec": {
   "display_name": "Python 3",
   "language": "python",
   "name": "python3"
  },
  "language_info": {
   "codemirror_mode": {
    "name": "ipython",
    "version": 3
   },
   "file_extension": ".py",
   "mimetype": "text/x-python",
   "name": "python",
   "nbconvert_exporter": "python",
   "pygments_lexer": "ipython3",
   "version": "3.7.1"
  }
 },
 "nbformat": 4,
 "nbformat_minor": 2
}
