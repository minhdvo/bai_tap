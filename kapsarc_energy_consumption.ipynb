{
 "cells": [
  {
   "cell_type": "code",
   "execution_count": 12,
   "metadata": {
    "collapsed": true
   },
   "outputs": [],
   "source": [
    "import requests\n",
    "import pandas as pd\n",
    "import matplotlib as mpl\n",
    "\n",
    "%matplotlib inline\n",
    "import matplotlib.pyplot as plt"
   ]
  },
  {
   "cell_type": "markdown",
   "metadata": {},
   "source": [
    "# Top 30 Countries in Energy Consumption\n",
    "Unit of measure: million tons of oil equivalent <br>\n",
    "Themes: Crude Oil & Refined Products, Electricity, Renewable & Alternative Fuels <br>\n",
    "Publisher: Energy Research Institute <br>\n",
    "link: https://datasource.kapsarc.org/explore/dataset/top-30-countries-energy-consumption/information/?disjunctive.country&refine.country=United+States"
   ]
  },
  {
   "cell_type": "code",
   "execution_count": 4,
   "metadata": {
    "collapsed": false
   },
   "outputs": [
    {
     "data": {
      "text/html": [
       "<div>\n",
       "<table border=\"1\" class=\"dataframe\">\n",
       "  <thead>\n",
       "    <tr style=\"text-align: right;\">\n",
       "      <th></th>\n",
       "      <th>Year</th>\n",
       "      <th>Country</th>\n",
       "      <th>YoY in 2016</th>\n",
       "      <th>value (million tons of oil equivalent)</th>\n",
       "    </tr>\n",
       "  </thead>\n",
       "  <tbody>\n",
       "    <tr>\n",
       "      <th>0</th>\n",
       "      <td>2010</td>\n",
       "      <td>United States</td>\n",
       "      <td>-0.004147</td>\n",
       "      <td>2284.068910</td>\n",
       "    </tr>\n",
       "    <tr>\n",
       "      <th>1</th>\n",
       "      <td>2012</td>\n",
       "      <td>United States</td>\n",
       "      <td>-0.004147</td>\n",
       "      <td>2209.262071</td>\n",
       "    </tr>\n",
       "    <tr>\n",
       "      <th>2</th>\n",
       "      <td>2015</td>\n",
       "      <td>India</td>\n",
       "      <td>0.053760</td>\n",
       "      <td>685.093810</td>\n",
       "    </tr>\n",
       "    <tr>\n",
       "      <th>3</th>\n",
       "      <td>2016</td>\n",
       "      <td>India</td>\n",
       "      <td>0.053760</td>\n",
       "      <td>723.902271</td>\n",
       "    </tr>\n",
       "    <tr>\n",
       "      <th>4</th>\n",
       "      <td>2012</td>\n",
       "      <td>India</td>\n",
       "      <td>0.053760</td>\n",
       "      <td>611.601669</td>\n",
       "    </tr>\n",
       "    <tr>\n",
       "      <th>5</th>\n",
       "      <td>2011</td>\n",
       "      <td>The Russian Federation</td>\n",
       "      <td>-0.014061</td>\n",
       "      <td>694.907086</td>\n",
       "    </tr>\n",
       "    <tr>\n",
       "      <th>6</th>\n",
       "      <td>2010</td>\n",
       "      <td>The Russian Federation</td>\n",
       "      <td>-0.014061</td>\n",
       "      <td>673.285406</td>\n",
       "    </tr>\n",
       "    <tr>\n",
       "      <th>7</th>\n",
       "      <td>2007</td>\n",
       "      <td>Japan</td>\n",
       "      <td>-0.003921</td>\n",
       "      <td>516.009042</td>\n",
       "    </tr>\n",
       "    <tr>\n",
       "      <th>8</th>\n",
       "      <td>2008</td>\n",
       "      <td>Japan</td>\n",
       "      <td>-0.003921</td>\n",
       "      <td>509.320004</td>\n",
       "    </tr>\n",
       "    <tr>\n",
       "      <th>9</th>\n",
       "      <td>2016</td>\n",
       "      <td>Japan</td>\n",
       "      <td>-0.003921</td>\n",
       "      <td>445.264660</td>\n",
       "    </tr>\n",
       "  </tbody>\n",
       "</table>\n",
       "</div>"
      ],
      "text/plain": [
       "   Year                 Country  YoY in 2016  \\\n",
       "0  2010           United States    -0.004147   \n",
       "1  2012           United States    -0.004147   \n",
       "2  2015                   India     0.053760   \n",
       "3  2016                   India     0.053760   \n",
       "4  2012                   India     0.053760   \n",
       "5  2011  The Russian Federation    -0.014061   \n",
       "6  2010  The Russian Federation    -0.014061   \n",
       "7  2007                   Japan    -0.003921   \n",
       "8  2008                   Japan    -0.003921   \n",
       "9  2016                   Japan    -0.003921   \n",
       "\n",
       "   value (million tons of oil equivalent)  \n",
       "0                             2284.068910  \n",
       "1                             2209.262071  \n",
       "2                              685.093810  \n",
       "3                              723.902271  \n",
       "4                              611.601669  \n",
       "5                              694.907086  \n",
       "6                              673.285406  \n",
       "7                              516.009042  \n",
       "8                              509.320004  \n",
       "9                              445.264660  "
      ]
     },
     "execution_count": 4,
     "metadata": {},
     "output_type": "execute_result"
    }
   ],
   "source": [
    "data = pd.read_csv('top-30-countries-energy-consumption.csv',sep=';')\n",
    "data.head(10)"
   ]
  },
  {
   "cell_type": "code",
   "execution_count": 5,
   "metadata": {
    "collapsed": false
   },
   "outputs": [
    {
     "data": {
      "text/plain": [
       "array(['United States', 'India', 'The Russian Federation', 'Japan',\n",
       "       'Canada', 'Germany', 'Brazil', 'Korea', 'Iran', 'Saudi Arabia',\n",
       "       'France', 'United Kingdom', 'Mexico', 'Indonesia', 'Italy',\n",
       "       'Australia', 'Turkey', 'Spain', 'Thailand', 'South Africa',\n",
       "       'United Arab Emirates', 'Taiwan, China', 'Malaysia', 'Poland',\n",
       "       'Egypt', 'Netherlands', 'Other countries', 'Global total', 'China',\n",
       "       'Argentina', 'Ukraine', 'Singapore'], dtype=object)"
      ]
     },
     "execution_count": 5,
     "metadata": {},
     "output_type": "execute_result"
    }
   ],
   "source": [
    "data['Country'].unique()"
   ]
  },
  {
   "cell_type": "code",
   "execution_count": 7,
   "metadata": {
    "collapsed": false
   },
   "outputs": [
    {
     "data": {
      "text/html": [
       "<div>\n",
       "<table border=\"1\" class=\"dataframe\">\n",
       "  <thead>\n",
       "    <tr style=\"text-align: right;\">\n",
       "      <th></th>\n",
       "      <th>Year</th>\n",
       "      <th>value (million tons of oil equivalent)</th>\n",
       "    </tr>\n",
       "  </thead>\n",
       "  <tbody>\n",
       "    <tr>\n",
       "      <th>0</th>\n",
       "      <td>2010</td>\n",
       "      <td>2284.068910</td>\n",
       "    </tr>\n",
       "    <tr>\n",
       "      <th>1</th>\n",
       "      <td>2012</td>\n",
       "      <td>2209.262071</td>\n",
       "    </tr>\n",
       "    <tr>\n",
       "      <th>64</th>\n",
       "      <td>2013</td>\n",
       "      <td>2270.628033</td>\n",
       "    </tr>\n",
       "    <tr>\n",
       "      <th>135</th>\n",
       "      <td>2007</td>\n",
       "      <td>2370.247533</td>\n",
       "    </tr>\n",
       "    <tr>\n",
       "      <th>136</th>\n",
       "      <td>2014</td>\n",
       "      <td>2296.537509</td>\n",
       "    </tr>\n",
       "    <tr>\n",
       "      <th>202</th>\n",
       "      <td>2009</td>\n",
       "      <td>2205.071333</td>\n",
       "    </tr>\n",
       "    <tr>\n",
       "      <th>203</th>\n",
       "      <td>2008</td>\n",
       "      <td>2318.845057</td>\n",
       "    </tr>\n",
       "    <tr>\n",
       "      <th>257</th>\n",
       "      <td>2015</td>\n",
       "      <td>2275.907638</td>\n",
       "    </tr>\n",
       "    <tr>\n",
       "      <th>258</th>\n",
       "      <td>2016</td>\n",
       "      <td>2272.679676</td>\n",
       "    </tr>\n",
       "    <tr>\n",
       "      <th>259</th>\n",
       "      <td>2011</td>\n",
       "      <td>2264.549096</td>\n",
       "    </tr>\n",
       "  </tbody>\n",
       "</table>\n",
       "</div>"
      ],
      "text/plain": [
       "     Year  value (million tons of oil equivalent)\n",
       "0    2010                             2284.068910\n",
       "1    2012                             2209.262071\n",
       "64   2013                             2270.628033\n",
       "135  2007                             2370.247533\n",
       "136  2014                             2296.537509\n",
       "202  2009                             2205.071333\n",
       "203  2008                             2318.845057\n",
       "257  2015                             2275.907638\n",
       "258  2016                             2272.679676\n",
       "259  2011                             2264.549096"
      ]
     },
     "execution_count": 7,
     "metadata": {},
     "output_type": "execute_result"
    }
   ],
   "source": [
    "df = data[data.Country=='United States'].loc[:,['Year','value (million tons of oil equivalent)']]\n",
    "df"
   ]
  },
  {
   "cell_type": "code",
   "execution_count": 8,
   "metadata": {
    "collapsed": false
   },
   "outputs": [
    {
     "data": {
      "text/html": [
       "<div>\n",
       "<table border=\"1\" class=\"dataframe\">\n",
       "  <thead>\n",
       "    <tr style=\"text-align: right;\">\n",
       "      <th></th>\n",
       "      <th>Year</th>\n",
       "      <th>value (million tons of oil equivalent)</th>\n",
       "    </tr>\n",
       "  </thead>\n",
       "  <tbody>\n",
       "    <tr>\n",
       "      <th>0</th>\n",
       "      <td>2007</td>\n",
       "      <td>2370.247533</td>\n",
       "    </tr>\n",
       "    <tr>\n",
       "      <th>1</th>\n",
       "      <td>2008</td>\n",
       "      <td>2318.845057</td>\n",
       "    </tr>\n",
       "    <tr>\n",
       "      <th>2</th>\n",
       "      <td>2009</td>\n",
       "      <td>2205.071333</td>\n",
       "    </tr>\n",
       "    <tr>\n",
       "      <th>3</th>\n",
       "      <td>2010</td>\n",
       "      <td>2284.068910</td>\n",
       "    </tr>\n",
       "    <tr>\n",
       "      <th>4</th>\n",
       "      <td>2011</td>\n",
       "      <td>2264.549096</td>\n",
       "    </tr>\n",
       "    <tr>\n",
       "      <th>5</th>\n",
       "      <td>2012</td>\n",
       "      <td>2209.262071</td>\n",
       "    </tr>\n",
       "    <tr>\n",
       "      <th>6</th>\n",
       "      <td>2013</td>\n",
       "      <td>2270.628033</td>\n",
       "    </tr>\n",
       "    <tr>\n",
       "      <th>7</th>\n",
       "      <td>2014</td>\n",
       "      <td>2296.537509</td>\n",
       "    </tr>\n",
       "    <tr>\n",
       "      <th>8</th>\n",
       "      <td>2015</td>\n",
       "      <td>2275.907638</td>\n",
       "    </tr>\n",
       "    <tr>\n",
       "      <th>9</th>\n",
       "      <td>2016</td>\n",
       "      <td>2272.679676</td>\n",
       "    </tr>\n",
       "  </tbody>\n",
       "</table>\n",
       "</div>"
      ],
      "text/plain": [
       "   Year  value (million tons of oil equivalent)\n",
       "0  2007                             2370.247533\n",
       "1  2008                             2318.845057\n",
       "2  2009                             2205.071333\n",
       "3  2010                             2284.068910\n",
       "4  2011                             2264.549096\n",
       "5  2012                             2209.262071\n",
       "6  2013                             2270.628033\n",
       "7  2014                             2296.537509\n",
       "8  2015                             2275.907638\n",
       "9  2016                             2272.679676"
      ]
     },
     "execution_count": 8,
     "metadata": {},
     "output_type": "execute_result"
    }
   ],
   "source": [
    "df=df.sort_values(by='Year')\n",
    "df=df.reset_index(drop=True)\n",
    "df"
   ]
  },
  {
   "cell_type": "code",
   "execution_count": 14,
   "metadata": {
    "collapsed": false
   },
   "outputs": [
    {
     "data": {
      "text/plain": [
       "<matplotlib.text.Text at 0xcb20828>"
      ]
     },
     "execution_count": 14,
     "metadata": {},
     "output_type": "execute_result"
    },
    {
     "data": {
      "image/png": "[encoded data removed]",
      "text/plain": [
       "<matplotlib.figure.Figure at 0xc990240>"
      ]
     },
     "metadata": {},
     "output_type": "display_data"
    }
   ],
   "source": [
    "ax=df.plot(x='Year')\n",
    "ax.xaxis.set_major_formatter(mpl.ticker.StrMethodFormatter('{x:.0f}'))\n",
    "plt.ylabel('million tons of oil equivalent')\n",
    "plt.title('Energy consumption in US')"
   ]
  }
 ],
 "metadata": {
  "kernelspec": {
   "display_name": "Python 2",
   "language": "python",
   "name": "python2"
  },
  "language_info": {
   "codemirror_mode": {
    "name": "ipython",
    "version": 2
   },
   "file_extension": ".py",
   "mimetype": "text/x-python",
   "name": "python",
   "nbconvert_exporter": "python",
   "pygments_lexer": "ipython2",
   "version": "2.7.11"
  }
 },
 "nbformat": 4,
 "nbformat_minor": 0
}
