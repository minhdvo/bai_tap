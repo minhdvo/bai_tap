{
 "cells": [
  {
   "cell_type": "code",
   "execution_count": 1,
   "metadata": {
    "collapsed": true
   },
   "outputs": [],
   "source": [
    "import requests\n",
    "import pandas as pd\n",
    "import json\n",
    "\n",
    "%matplotlib inline\n",
    "import matplotlib.pyplot as plt"
   ]
  },
  {
   "cell_type": "code",
   "execution_count": 2,
   "metadata": {
    "collapsed": true
   },
   "outputs": [],
   "source": [
    "# unique EIA API key\n",
    "api_key = 'ff6b6c88bf6550d3c017016868cc1045'"
   ]
  },
  {
   "cell_type": "markdown",
   "metadata": {},
   "source": [
    "# Primary Energy Consumption by Source"
   ]
  },
  {
   "cell_type": "markdown",
   "metadata": {},
   "source": [
    "# link\n",
    "https://www.eia.gov/opendata/qb.php?category=711238&sdid=TOTAL.TETCBUS.A"
   ]
  },
  {
   "cell_type": "code",
   "execution_count": 3,
   "metadata": {
    "collapsed": true
   },
   "outputs": [],
   "source": [
    "# EIA Data Sets > Total Energy > Energy Overview > Primary Energy Consumption by Source\n",
    "# http://api.eia.gov/series/?api_key=YOUR_API_KEY_HERE&series_id=TOTAL.TETCBUS.A\n",
    "url_1 = 'http://api.eia.gov/series/?api_key=ff6b6c88bf6550d3c017016868cc1045&series_id=TOTAL.TETCBUS.A'\n",
    "req_1 = requests.get(url_1)\n",
    "data_1 = req_1.json()"
   ]
  },
  {
   "cell_type": "code",
   "execution_count": 4,
   "metadata": {
    "collapsed": false
   },
   "outputs": [
    {
     "data": {
      "text/plain": [
       "[u'series', u'request']"
      ]
     },
     "execution_count": 4,
     "metadata": {},
     "output_type": "execute_result"
    }
   ],
   "source": [
    "data_1.keys()"
   ]
  },
  {
   "cell_type": "code",
   "execution_count": 5,
   "metadata": {
    "collapsed": false
   },
   "outputs": [
    {
     "data": {
      "text/plain": [
       "u'{\"request\":{\"command\":\"series\",\"series_id\":\"TOTAL.TETCBUS.A\"},\"series\":[{\"series_id\":\"TOTAL.TETCBUS.A\",\"name\":\"Total Primary Energy Consumption, Annual\",\"units\":\"Trillion Btu\",\"f\":\"A\",\"start\":\"1949\",\"end\":\"2017\",\"updated\":\"2018-07-25T16:07:13-0400\",\"data\":[[\"2017\",97735.387],[\"2016\",97581.919],[\"2015\",97526.034],[\"2014\",98490.661],[\"2013\",97340.441],[\"2012\",94534.976],[\"2011\",96976.026],[\"2010\",97580.057],[\"2009\",94117.614],[\"2008\",98890.755],[\"2007\",101014.753],[\"2006\",99484.49],[\"2005\",100187.721],[\"2004\",100089.702],[\"2003\",97917.504],[\"2002\",97643.478],[\"2001\",96169.669],[\"2000\",98816.545],[\"1999\",96648.392],[\"1998\",95017.738],[\"1997\",94600.341],[\"1996\",94020.528],[\"1995\",91030.608],[\"1994\",89087.341],[\"1993\",87365.525],[\"1992\",85782.166],[\"1991\",84437.217],[\"1990\",84484.553],[\"1989\",84785.325],[\"1988\",82709.172],[\"1987\",79054.456],[\"1986\",76647.005],[\"1985\",76392.385],[\"1984\",76631.701],[\"1983\",72970.566],[\"1982\",73099.185],[\"1981\",76105.776],[\"1980\",78066.668],[\"1979\",80858.584],[\"1978\",79950.406],[\"1977\",77961.33],[\"1976\",75974.826],[\"1975\",71964.553],[\"1974\",73962.369],[\"1973\",75683.69],[\"1972\",72687.867],[\"1971\",69282.843],[\"1970\",67838.325],[\"1969\",65614.02],[\"1968\",62414.507],[\"1967\",58904.521],[\"1966\",57014.332],[\"1965\",54015.001],[\"1964\",51814.788],[\"1963\",49644.195],[\"1962\",47826.437],[\"1961\",45737.837],[\"1960\",45086.455],[\"1959\",43465.722],[\"1958\",41645.028],[\"1957\",41787.186],[\"1956\",41754.252],[\"1955\",40207.971],[\"1954\",36639.382],[\"1953\",37664.468],[\"1952\",36747.825],[\"1951\",36974.03],[\"1950\",34615.768],[\"1949\",31981.503]]}]}'"
      ]
     },
     "execution_count": 5,
     "metadata": {},
     "output_type": "execute_result"
    }
   ],
   "source": [
    "req_1.text"
   ]
  },
  {
   "cell_type": "code",
   "execution_count": 6,
   "metadata": {
    "collapsed": false
   },
   "outputs": [
    {
     "data": {
      "text/plain": [
       "{u'request': {u'command': u'series', u'series_id': u'TOTAL.TETCBUS.A'},\n",
       " u'series': [{u'data': [[u'2017', 97735.387],\n",
       "    [u'2016', 97581.919],\n",
       "    [u'2015', 97526.034],\n",
       "    [u'2014', 98490.661],\n",
       "    [u'2013', 97340.441],\n",
       "    [u'2012', 94534.976],\n",
       "    [u'2011', 96976.026],\n",
       "    [u'2010', 97580.057],\n",
       "    [u'2009', 94117.614],\n",
       "    [u'2008', 98890.755],\n",
       "    [u'2007', 101014.753],\n",
       "    [u'2006', 99484.49],\n",
       "    [u'2005', 100187.721],\n",
       "    [u'2004', 100089.702],\n",
       "    [u'2003', 97917.504],\n",
       "    [u'2002', 97643.478],\n",
       "    [u'2001', 96169.669],\n",
       "    [u'2000', 98816.545],\n",
       "    [u'1999', 96648.392],\n",
       "    [u'1998', 95017.738],\n",
       "    [u'1997', 94600.341],\n",
       "    [u'1996', 94020.528],\n",
       "    [u'1995', 91030.608],\n",
       "    [u'1994', 89087.341],\n",
       "    [u'1993', 87365.525],\n",
       "    [u'1992', 85782.166],\n",
       "    [u'1991', 84437.217],\n",
       "    [u'1990', 84484.553],\n",
       "    [u'1989', 84785.325],\n",
       "    [u'1988', 82709.172],\n",
       "    [u'1987', 79054.456],\n",
       "    [u'1986', 76647.005],\n",
       "    [u'1985', 76392.385],\n",
       "    [u'1984', 76631.701],\n",
       "    [u'1983', 72970.566],\n",
       "    [u'1982', 73099.185],\n",
       "    [u'1981', 76105.776],\n",
       "    [u'1980', 78066.668],\n",
       "    [u'1979', 80858.584],\n",
       "    [u'1978', 79950.406],\n",
       "    [u'1977', 77961.33],\n",
       "    [u'1976', 75974.826],\n",
       "    [u'1975', 71964.553],\n",
       "    [u'1974', 73962.369],\n",
       "    [u'1973', 75683.69],\n",
       "    [u'1972', 72687.867],\n",
       "    [u'1971', 69282.843],\n",
       "    [u'1970', 67838.325],\n",
       "    [u'1969', 65614.02],\n",
       "    [u'1968', 62414.507],\n",
       "    [u'1967', 58904.521],\n",
       "    [u'1966', 57014.332],\n",
       "    [u'1965', 54015.001],\n",
       "    [u'1964', 51814.788],\n",
       "    [u'1963', 49644.195],\n",
       "    [u'1962', 47826.437],\n",
       "    [u'1961', 45737.837],\n",
       "    [u'1960', 45086.455],\n",
       "    [u'1959', 43465.722],\n",
       "    [u'1958', 41645.028],\n",
       "    [u'1957', 41787.186],\n",
       "    [u'1956', 41754.252],\n",
       "    [u'1955', 40207.971],\n",
       "    [u'1954', 36639.382],\n",
       "    [u'1953', 37664.468],\n",
       "    [u'1952', 36747.825],\n",
       "    [u'1951', 36974.03],\n",
       "    [u'1950', 34615.768],\n",
       "    [u'1949', 31981.503]],\n",
       "   u'end': u'2017',\n",
       "   u'f': u'A',\n",
       "   u'name': u'Total Primary Energy Consumption, Annual',\n",
       "   u'series_id': u'TOTAL.TETCBUS.A',\n",
       "   u'start': u'1949',\n",
       "   u'units': u'Trillion Btu',\n",
       "   u'updated': u'2018-07-25T16:07:13-0400'}]}"
      ]
     },
     "execution_count": 6,
     "metadata": {},
     "output_type": "execute_result"
    }
   ],
   "source": [
    "data_1"
   ]
  },
  {
   "cell_type": "code",
   "execution_count": 7,
   "metadata": {
    "collapsed": false
   },
   "outputs": [
    {
     "data": {
      "text/html": [
       "<div>\n",
       "<table border=\"1\" class=\"dataframe\">\n",
       "  <thead>\n",
       "    <tr style=\"text-align: right;\">\n",
       "      <th></th>\n",
       "      <th>data</th>\n",
       "      <th>end</th>\n",
       "      <th>f</th>\n",
       "      <th>name</th>\n",
       "      <th>series_id</th>\n",
       "      <th>start</th>\n",
       "      <th>units</th>\n",
       "      <th>updated</th>\n",
       "    </tr>\n",
       "  </thead>\n",
       "  <tbody>\n",
       "    <tr>\n",
       "      <th>0</th>\n",
       "      <td>[[2017, 97735.387], [2016, 97581.919], [2015, ...</td>\n",
       "      <td>2017</td>\n",
       "      <td>A</td>\n",
       "      <td>Total Primary Energy Consumption, Annual</td>\n",
       "      <td>TOTAL.TETCBUS.A</td>\n",
       "      <td>1949</td>\n",
       "      <td>Trillion Btu</td>\n",
       "      <td>2018-07-25T16:07:13-0400</td>\n",
       "    </tr>\n",
       "  </tbody>\n",
       "</table>\n",
       "</div>"
      ],
      "text/plain": [
       "                                                data   end  f  \\\n",
       "0  [[2017, 97735.387], [2016, 97581.919], [2015, ...  2017  A   \n",
       "\n",
       "                                       name        series_id start  \\\n",
       "0  Total Primary Energy Consumption, Annual  TOTAL.TETCBUS.A  1949   \n",
       "\n",
       "          units                   updated  \n",
       "0  Trillion Btu  2018-07-25T16:07:13-0400  "
      ]
     },
     "execution_count": 7,
     "metadata": {},
     "output_type": "execute_result"
    }
   ],
   "source": [
    "df1=pd.DataFrame(data_1['series'])\n",
    "df1"
   ]
  },
  {
   "cell_type": "code",
   "execution_count": 8,
   "metadata": {
    "collapsed": false
   },
   "outputs": [
    {
     "name": "stdout",
     "output_type": "stream",
     "text": [
      "   year  total_pri_energy_consumption\n",
      "0  2017                     97735.387\n",
      "1  2016                     97581.919\n",
      "2  2015                     97526.034\n",
      "3  2014                     98490.661\n",
      "4  2013                     97340.441\n",
      "<class 'pandas.core.frame.DataFrame'>\n",
      "Int64Index: 69 entries, 0 to 68\n",
      "Data columns (total 2 columns):\n",
      "year                            69 non-null object\n",
      "total_pri_energy_consumption    69 non-null float64\n",
      "dtypes: float64(1), object(1)\n",
      "memory usage: 1.6+ KB\n"
     ]
    }
   ],
   "source": [
    "x1=pd.DataFrame(df1['data'][0])\n",
    "x1.columns=['year','total_pri_energy_consumption']\n",
    "print(x1.head())\n",
    "x1.info()"
   ]
  },
  {
   "cell_type": "code",
   "execution_count": 9,
   "metadata": {
    "collapsed": false
   },
   "outputs": [],
   "source": [
    "x1.year=pd.to_numeric(x1['year'])"
   ]
  },
  {
   "cell_type": "code",
   "execution_count": 10,
   "metadata": {
    "collapsed": false
   },
   "outputs": [
    {
     "name": "stdout",
     "output_type": "stream",
     "text": [
      "<class 'pandas.core.frame.DataFrame'>\n",
      "Int64Index: 69 entries, 0 to 68\n",
      "Data columns (total 2 columns):\n",
      "year                            69 non-null int64\n",
      "total_pri_energy_consumption    69 non-null float64\n",
      "dtypes: float64(1), int64(1)\n",
      "memory usage: 1.6 KB\n"
     ]
    }
   ],
   "source": [
    "x1.info()"
   ]
  },
  {
   "cell_type": "code",
   "execution_count": 11,
   "metadata": {
    "collapsed": false
   },
   "outputs": [
    {
     "data": {
      "text/html": [
       "<div>\n",
       "<table border=\"1\" class=\"dataframe\">\n",
       "  <thead>\n",
       "    <tr style=\"text-align: right;\">\n",
       "      <th></th>\n",
       "      <th>year</th>\n",
       "      <th>total_pri_energy_consumption</th>\n",
       "    </tr>\n",
       "  </thead>\n",
       "  <tbody>\n",
       "    <tr>\n",
       "      <th>68</th>\n",
       "      <td>1949</td>\n",
       "      <td>31981.503</td>\n",
       "    </tr>\n",
       "    <tr>\n",
       "      <th>67</th>\n",
       "      <td>1950</td>\n",
       "      <td>34615.768</td>\n",
       "    </tr>\n",
       "    <tr>\n",
       "      <th>66</th>\n",
       "      <td>1951</td>\n",
       "      <td>36974.030</td>\n",
       "    </tr>\n",
       "    <tr>\n",
       "      <th>65</th>\n",
       "      <td>1952</td>\n",
       "      <td>36747.825</td>\n",
       "    </tr>\n",
       "    <tr>\n",
       "      <th>64</th>\n",
       "      <td>1953</td>\n",
       "      <td>37664.468</td>\n",
       "    </tr>\n",
       "  </tbody>\n",
       "</table>\n",
       "</div>"
      ],
      "text/plain": [
       "    year  total_pri_energy_consumption\n",
       "68  1949                     31981.503\n",
       "67  1950                     34615.768\n",
       "66  1951                     36974.030\n",
       "65  1952                     36747.825\n",
       "64  1953                     37664.468"
      ]
     },
     "execution_count": 11,
     "metadata": {},
     "output_type": "execute_result"
    }
   ],
   "source": [
    "x1=x1.sort_values(by=['year'])\n",
    "x1.head()"
   ]
  },
  {
   "cell_type": "code",
   "execution_count": 12,
   "metadata": {
    "collapsed": false,
    "scrolled": true
   },
   "outputs": [
    {
     "data": {
      "text/plain": [
       "<matplotlib.text.Text at 0xb7291d0>"
      ]
     },
     "execution_count": 12,
     "metadata": {},
     "output_type": "execute_result"
    },
    {
     "data": {
      "image/png": "[encoded data removed]",
      "text/plain": [
       "<matplotlib.figure.Figure at 0xb57eb70>"
      ]
     },
     "metadata": {},
     "output_type": "display_data"
    }
   ],
   "source": [
    "x1.plot(x='year',y='total_pri_energy_consumption')\n",
    "plt.ylabel('trillion BTU')"
   ]
  },
  {
   "cell_type": "markdown",
   "metadata": {},
   "source": [
    "# API Query Browser\n",
    "EIA Data Sets > Total Energy > Energy Overview > Primary Energy Consumption by Source"
   ]
  },
  {
   "cell_type": "code",
   "execution_count": 13,
   "metadata": {
    "collapsed": false
   },
   "outputs": [
    {
     "data": {
      "text/plain": [
       "[u'category', u'request']"
      ]
     },
     "execution_count": 13,
     "metadata": {},
     "output_type": "execute_result"
    }
   ],
   "source": [
    "url_2 = 'http://api.eia.gov/category/?api_key=ff6b6c88bf6550d3c017016868cc1045&category_id=711240'\n",
    "#url_2 = 'http://api.eia.gov/series/?api_key=ff6b6c88bf6550d3c017016868cc1045&series_id=TOTAL.TETCBUS.A'\n",
    "req_2 = requests.get(url_2)\n",
    "data_2 = req_2.json()\n",
    "data_2.keys()"
   ]
  },
  {
   "cell_type": "code",
   "execution_count": 14,
   "metadata": {
    "collapsed": false,
    "scrolled": false
   },
   "outputs": [
    {
     "data": {
      "text/plain": [
       "{u'category': {u'category_id': u'711240',\n",
       "  u'childcategories': [],\n",
       "  u'childseries': [{u'f': u'A',\n",
       "    u'name': u'Total Biomass Energy Consumption, Annual',\n",
       "    u'series_id': u'TOTAL.BMTCBUS.A',\n",
       "    u'units': u'Trillion Btu',\n",
       "    u'updated': u'26-MAR-18 10.34.34 AM'},\n",
       "   {u'f': u'M',\n",
       "    u'name': u'Total Biomass Energy Consumption, Monthly',\n",
       "    u'series_id': u'TOTAL.BMTCBUS.M',\n",
       "    u'units': u'Trillion Btu',\n",
       "    u'updated': u'27-AUG-18 02.49.23 PM'},\n",
       "   {u'f': u'A',\n",
       "    u'name': u'Coal Consumption, Annual',\n",
       "    u'series_id': u'TOTAL.CLTCBUS.A',\n",
       "    u'units': u'Trillion Btu',\n",
       "    u'updated': u'25-JUN-18 04.53.14 PM'},\n",
       "   {u'f': u'M',\n",
       "    u'name': u'Coal Consumption, Monthly',\n",
       "    u'series_id': u'TOTAL.CLTCBUS.M',\n",
       "    u'units': u'Trillion Btu',\n",
       "    u'updated': u'27-AUG-18 02.49.23 PM'},\n",
       "   {u'f': u'A',\n",
       "    u'name': u'Total Fossil Fuels Consumption, Annual',\n",
       "    u'series_id': u'TOTAL.FFTCBUS.A',\n",
       "    u'units': u'Trillion Btu',\n",
       "    u'updated': u'25-JUL-18 04.07.13 PM'},\n",
       "   {u'f': u'M',\n",
       "    u'name': u'Total Fossil Fuels Consumption, Monthly',\n",
       "    u'series_id': u'TOTAL.FFTCBUS.M',\n",
       "    u'units': u'Trillion Btu',\n",
       "    u'updated': u'27-AUG-18 02.49.23 PM'},\n",
       "   {u'f': u'A',\n",
       "    u'name': u'Geothermal Energy Consumption/Production, Annual',\n",
       "    u'series_id': u'TOTAL.GETCBUS.A',\n",
       "    u'units': u'Trillion Btu',\n",
       "    u'updated': u'26-MAR-18 10.34.34 AM'},\n",
       "   {u'f': u'M',\n",
       "    u'name': u'Geothermal Energy Consumption/Production, Monthly',\n",
       "    u'series_id': u'TOTAL.GETCBUS.M',\n",
       "    u'units': u'Trillion Btu',\n",
       "    u'updated': u'27-AUG-18 02.49.23 PM'},\n",
       "   {u'f': u'A',\n",
       "    u'name': u'Hydroelectric Power Consumption/Production, Annual',\n",
       "    u'series_id': u'TOTAL.HVTCBUS.A',\n",
       "    u'units': u'Trillion Btu',\n",
       "    u'updated': u'26-MAR-18 10.34.34 AM'},\n",
       "   {u'f': u'M',\n",
       "    u'name': u'Hydroelectric Power Consumption/Production, Monthly',\n",
       "    u'series_id': u'TOTAL.HVTCBUS.M',\n",
       "    u'units': u'Trillion Btu',\n",
       "    u'updated': u'27-AUG-18 02.49.23 PM'},\n",
       "   {u'f': u'A',\n",
       "    u'name': u'Natural Gas Consumption (Excluding Supplemental Gaseous Fuels), Annual',\n",
       "    u'series_id': u'TOTAL.NNTCBUS.A',\n",
       "    u'units': u'Trillion Btu',\n",
       "    u'updated': u'25-JUL-18 04.07.13 PM'},\n",
       "   {u'f': u'M',\n",
       "    u'name': u'Natural Gas Consumption (Excluding Supplemental Gaseous Fuels), Monthly',\n",
       "    u'series_id': u'TOTAL.NNTCBUS.M',\n",
       "    u'units': u'Trillion Btu',\n",
       "    u'updated': u'27-AUG-18 02.49.23 PM'},\n",
       "   {u'f': u'A',\n",
       "    u'name': u'Nuclear Electric Power Consumption/Production, Annual',\n",
       "    u'series_id': u'TOTAL.NUETBUS.A',\n",
       "    u'units': u'Trillion Btu',\n",
       "    u'updated': u'26-MAR-18 10.34.34 AM'},\n",
       "   {u'f': u'M',\n",
       "    u'name': u'Nuclear Electric Power Consumption/Production, Monthly',\n",
       "    u'series_id': u'TOTAL.NUETBUS.M',\n",
       "    u'units': u'Trillion Btu',\n",
       "    u'updated': u'27-AUG-18 02.49.23 PM'},\n",
       "   {u'f': u'A',\n",
       "    u'name': u'Petroleum Consumption (Excluding Biofuels), Annual',\n",
       "    u'series_id': u'TOTAL.PMTCBUS.A',\n",
       "    u'units': u'Trillion Btu',\n",
       "    u'updated': u'25-JUL-18 04.07.13 PM'},\n",
       "   {u'f': u'M',\n",
       "    u'name': u'Petroleum Consumption (Excluding Biofuels), Monthly',\n",
       "    u'series_id': u'TOTAL.PMTCBUS.M',\n",
       "    u'units': u'Trillion Btu',\n",
       "    u'updated': u'27-AUG-18 02.49.23 PM'},\n",
       "   {u'f': u'A',\n",
       "    u'name': u'Total Renewable Energy Consumption, Annual',\n",
       "    u'series_id': u'TOTAL.RETCBUS.A',\n",
       "    u'units': u'Trillion Btu',\n",
       "    u'updated': u'26-APR-18 02.49.52 PM'},\n",
       "   {u'f': u'M',\n",
       "    u'name': u'Total Renewable Energy Consumption, Monthly',\n",
       "    u'series_id': u'TOTAL.RETCBUS.M',\n",
       "    u'units': u'Trillion Btu',\n",
       "    u'updated': u'27-AUG-18 02.49.23 PM'},\n",
       "   {u'f': u'A',\n",
       "    u'name': u'Solar/PV Energy Consumption/Production, Annual',\n",
       "    u'series_id': u'TOTAL.SOTCBUS.A',\n",
       "    u'units': u'Trillion Btu',\n",
       "    u'updated': u'26-APR-18 02.49.52 PM'},\n",
       "   {u'f': u'M',\n",
       "    u'name': u'Solar/PV Energy Consumption/Production, Monthly',\n",
       "    u'series_id': u'TOTAL.SOTCBUS.M',\n",
       "    u'units': u'Trillion Btu',\n",
       "    u'updated': u'27-AUG-18 02.49.23 PM'},\n",
       "   {u'f': u'A',\n",
       "    u'name': u'Total Primary Energy Consumption, Annual',\n",
       "    u'series_id': u'TOTAL.TETCBUS.A',\n",
       "    u'units': u'Trillion Btu',\n",
       "    u'updated': u'25-JUL-18 04.07.13 PM'},\n",
       "   {u'f': u'M',\n",
       "    u'name': u'Total Primary Energy Consumption, Monthly',\n",
       "    u'series_id': u'TOTAL.TETCBUS.M',\n",
       "    u'units': u'Trillion Btu',\n",
       "    u'updated': u'27-AUG-18 02.49.23 PM'},\n",
       "   {u'f': u'A',\n",
       "    u'name': u'Wind Energy Consumption/Production, Annual',\n",
       "    u'series_id': u'TOTAL.WYTCBUS.A',\n",
       "    u'units': u'Trillion Btu',\n",
       "    u'updated': u'26-MAR-18 10.34.34 AM'},\n",
       "   {u'f': u'M',\n",
       "    u'name': u'Wind Energy Consumption/Production, Monthly',\n",
       "    u'series_id': u'TOTAL.WYTCBUS.M',\n",
       "    u'units': u'Trillion Btu',\n",
       "    u'updated': u'27-AUG-18 02.49.23 PM'}],\n",
       "  u'name': u'Primary Energy Consumption by Source',\n",
       "  u'notes': u'',\n",
       "  u'parent_category_id': u'711225'},\n",
       " u'request': {u'category_id': 711240, u'command': u'category'}}"
      ]
     },
     "execution_count": 14,
     "metadata": {},
     "output_type": "execute_result"
    }
   ],
   "source": [
    "data_2"
   ]
  },
  {
   "cell_type": "code",
   "execution_count": 15,
   "metadata": {
    "collapsed": false
   },
   "outputs": [
    {
     "data": {
      "text/html": [
       "<div>\n",
       "<table border=\"1\" class=\"dataframe\">\n",
       "  <thead>\n",
       "    <tr style=\"text-align: right;\">\n",
       "      <th></th>\n",
       "      <th>category</th>\n",
       "      <th>request</th>\n",
       "    </tr>\n",
       "  </thead>\n",
       "  <tbody>\n",
       "    <tr>\n",
       "      <th>category_id</th>\n",
       "      <td>711240</td>\n",
       "      <td>711240</td>\n",
       "    </tr>\n",
       "    <tr>\n",
       "      <th>childcategories</th>\n",
       "      <td>[]</td>\n",
       "      <td>NaN</td>\n",
       "    </tr>\n",
       "    <tr>\n",
       "      <th>childseries</th>\n",
       "      <td>[{u'series_id': u'TOTAL.BMTCBUS.A', u'units': ...</td>\n",
       "      <td>NaN</td>\n",
       "    </tr>\n",
       "    <tr>\n",
       "      <th>command</th>\n",
       "      <td>NaN</td>\n",
       "      <td>category</td>\n",
       "    </tr>\n",
       "    <tr>\n",
       "      <th>name</th>\n",
       "      <td>Primary Energy Consumption by Source</td>\n",
       "      <td>NaN</td>\n",
       "    </tr>\n",
       "    <tr>\n",
       "      <th>notes</th>\n",
       "      <td></td>\n",
       "      <td>NaN</td>\n",
       "    </tr>\n",
       "    <tr>\n",
       "      <th>parent_category_id</th>\n",
       "      <td>711225</td>\n",
       "      <td>NaN</td>\n",
       "    </tr>\n",
       "  </tbody>\n",
       "</table>\n",
       "</div>"
      ],
      "text/plain": [
       "                                                             category  \\\n",
       "category_id                                                    711240   \n",
       "childcategories                                                    []   \n",
       "childseries         [{u'series_id': u'TOTAL.BMTCBUS.A', u'units': ...   \n",
       "command                                                           NaN   \n",
       "name                             Primary Energy Consumption by Source   \n",
       "notes                                                                   \n",
       "parent_category_id                                             711225   \n",
       "\n",
       "                     request  \n",
       "category_id           711240  \n",
       "childcategories          NaN  \n",
       "childseries              NaN  \n",
       "command             category  \n",
       "name                     NaN  \n",
       "notes                    NaN  \n",
       "parent_category_id       NaN  "
      ]
     },
     "execution_count": 15,
     "metadata": {},
     "output_type": "execute_result"
    }
   ],
   "source": [
    "pd.DataFrame(data_2)"
   ]
  },
  {
   "cell_type": "code",
   "execution_count": 16,
   "metadata": {
    "collapsed": false
   },
   "outputs": [
    {
     "data": {
      "text/plain": [
       "[{u'f': u'A',\n",
       "  u'name': u'Total Biomass Energy Consumption, Annual',\n",
       "  u'series_id': u'TOTAL.BMTCBUS.A',\n",
       "  u'units': u'Trillion Btu',\n",
       "  u'updated': u'26-MAR-18 10.34.34 AM'},\n",
       " {u'f': u'M',\n",
       "  u'name': u'Total Biomass Energy Consumption, Monthly',\n",
       "  u'series_id': u'TOTAL.BMTCBUS.M',\n",
       "  u'units': u'Trillion Btu',\n",
       "  u'updated': u'27-AUG-18 02.49.23 PM'},\n",
       " {u'f': u'A',\n",
       "  u'name': u'Coal Consumption, Annual',\n",
       "  u'series_id': u'TOTAL.CLTCBUS.A',\n",
       "  u'units': u'Trillion Btu',\n",
       "  u'updated': u'25-JUN-18 04.53.14 PM'},\n",
       " {u'f': u'M',\n",
       "  u'name': u'Coal Consumption, Monthly',\n",
       "  u'series_id': u'TOTAL.CLTCBUS.M',\n",
       "  u'units': u'Trillion Btu',\n",
       "  u'updated': u'27-AUG-18 02.49.23 PM'},\n",
       " {u'f': u'A',\n",
       "  u'name': u'Total Fossil Fuels Consumption, Annual',\n",
       "  u'series_id': u'TOTAL.FFTCBUS.A',\n",
       "  u'units': u'Trillion Btu',\n",
       "  u'updated': u'25-JUL-18 04.07.13 PM'},\n",
       " {u'f': u'M',\n",
       "  u'name': u'Total Fossil Fuels Consumption, Monthly',\n",
       "  u'series_id': u'TOTAL.FFTCBUS.M',\n",
       "  u'units': u'Trillion Btu',\n",
       "  u'updated': u'27-AUG-18 02.49.23 PM'},\n",
       " {u'f': u'A',\n",
       "  u'name': u'Geothermal Energy Consumption/Production, Annual',\n",
       "  u'series_id': u'TOTAL.GETCBUS.A',\n",
       "  u'units': u'Trillion Btu',\n",
       "  u'updated': u'26-MAR-18 10.34.34 AM'},\n",
       " {u'f': u'M',\n",
       "  u'name': u'Geothermal Energy Consumption/Production, Monthly',\n",
       "  u'series_id': u'TOTAL.GETCBUS.M',\n",
       "  u'units': u'Trillion Btu',\n",
       "  u'updated': u'27-AUG-18 02.49.23 PM'},\n",
       " {u'f': u'A',\n",
       "  u'name': u'Hydroelectric Power Consumption/Production, Annual',\n",
       "  u'series_id': u'TOTAL.HVTCBUS.A',\n",
       "  u'units': u'Trillion Btu',\n",
       "  u'updated': u'26-MAR-18 10.34.34 AM'},\n",
       " {u'f': u'M',\n",
       "  u'name': u'Hydroelectric Power Consumption/Production, Monthly',\n",
       "  u'series_id': u'TOTAL.HVTCBUS.M',\n",
       "  u'units': u'Trillion Btu',\n",
       "  u'updated': u'27-AUG-18 02.49.23 PM'},\n",
       " {u'f': u'A',\n",
       "  u'name': u'Natural Gas Consumption (Excluding Supplemental Gaseous Fuels), Annual',\n",
       "  u'series_id': u'TOTAL.NNTCBUS.A',\n",
       "  u'units': u'Trillion Btu',\n",
       "  u'updated': u'25-JUL-18 04.07.13 PM'},\n",
       " {u'f': u'M',\n",
       "  u'name': u'Natural Gas Consumption (Excluding Supplemental Gaseous Fuels), Monthly',\n",
       "  u'series_id': u'TOTAL.NNTCBUS.M',\n",
       "  u'units': u'Trillion Btu',\n",
       "  u'updated': u'27-AUG-18 02.49.23 PM'},\n",
       " {u'f': u'A',\n",
       "  u'name': u'Nuclear Electric Power Consumption/Production, Annual',\n",
       "  u'series_id': u'TOTAL.NUETBUS.A',\n",
       "  u'units': u'Trillion Btu',\n",
       "  u'updated': u'26-MAR-18 10.34.34 AM'},\n",
       " {u'f': u'M',\n",
       "  u'name': u'Nuclear Electric Power Consumption/Production, Monthly',\n",
       "  u'series_id': u'TOTAL.NUETBUS.M',\n",
       "  u'units': u'Trillion Btu',\n",
       "  u'updated': u'27-AUG-18 02.49.23 PM'},\n",
       " {u'f': u'A',\n",
       "  u'name': u'Petroleum Consumption (Excluding Biofuels), Annual',\n",
       "  u'series_id': u'TOTAL.PMTCBUS.A',\n",
       "  u'units': u'Trillion Btu',\n",
       "  u'updated': u'25-JUL-18 04.07.13 PM'},\n",
       " {u'f': u'M',\n",
       "  u'name': u'Petroleum Consumption (Excluding Biofuels), Monthly',\n",
       "  u'series_id': u'TOTAL.PMTCBUS.M',\n",
       "  u'units': u'Trillion Btu',\n",
       "  u'updated': u'27-AUG-18 02.49.23 PM'},\n",
       " {u'f': u'A',\n",
       "  u'name': u'Total Renewable Energy Consumption, Annual',\n",
       "  u'series_id': u'TOTAL.RETCBUS.A',\n",
       "  u'units': u'Trillion Btu',\n",
       "  u'updated': u'26-APR-18 02.49.52 PM'},\n",
       " {u'f': u'M',\n",
       "  u'name': u'Total Renewable Energy Consumption, Monthly',\n",
       "  u'series_id': u'TOTAL.RETCBUS.M',\n",
       "  u'units': u'Trillion Btu',\n",
       "  u'updated': u'27-AUG-18 02.49.23 PM'},\n",
       " {u'f': u'A',\n",
       "  u'name': u'Solar/PV Energy Consumption/Production, Annual',\n",
       "  u'series_id': u'TOTAL.SOTCBUS.A',\n",
       "  u'units': u'Trillion Btu',\n",
       "  u'updated': u'26-APR-18 02.49.52 PM'},\n",
       " {u'f': u'M',\n",
       "  u'name': u'Solar/PV Energy Consumption/Production, Monthly',\n",
       "  u'series_id': u'TOTAL.SOTCBUS.M',\n",
       "  u'units': u'Trillion Btu',\n",
       "  u'updated': u'27-AUG-18 02.49.23 PM'},\n",
       " {u'f': u'A',\n",
       "  u'name': u'Total Primary Energy Consumption, Annual',\n",
       "  u'series_id': u'TOTAL.TETCBUS.A',\n",
       "  u'units': u'Trillion Btu',\n",
       "  u'updated': u'25-JUL-18 04.07.13 PM'},\n",
       " {u'f': u'M',\n",
       "  u'name': u'Total Primary Energy Consumption, Monthly',\n",
       "  u'series_id': u'TOTAL.TETCBUS.M',\n",
       "  u'units': u'Trillion Btu',\n",
       "  u'updated': u'27-AUG-18 02.49.23 PM'},\n",
       " {u'f': u'A',\n",
       "  u'name': u'Wind Energy Consumption/Production, Annual',\n",
       "  u'series_id': u'TOTAL.WYTCBUS.A',\n",
       "  u'units': u'Trillion Btu',\n",
       "  u'updated': u'26-MAR-18 10.34.34 AM'},\n",
       " {u'f': u'M',\n",
       "  u'name': u'Wind Energy Consumption/Production, Monthly',\n",
       "  u'series_id': u'TOTAL.WYTCBUS.M',\n",
       "  u'units': u'Trillion Btu',\n",
       "  u'updated': u'27-AUG-18 02.49.23 PM'}]"
      ]
     },
     "execution_count": 16,
     "metadata": {},
     "output_type": "execute_result"
    }
   ],
   "source": [
    "data_2['category']['childseries']"
   ]
  },
  {
   "cell_type": "markdown",
   "metadata": {},
   "source": [
    "# Total Renewable Energy Consumption\n",
    "#link\n",
    "https://www.eia.gov/opendata/qb.php?category=711238&sdid=TOTAL.RETCBUS.A"
   ]
  },
  {
   "cell_type": "code",
   "execution_count": 17,
   "metadata": {
    "collapsed": true
   },
   "outputs": [],
   "source": [
    "# EIA Data Sets > Total Energy > Energy Overview > Primary Energy Overview\n",
    "# http://api.eia.gov/series/?api_key=YOUR_API_KEY_HERE&series_id=TOTAL.RETCBUS.A\n",
    "url_re = 'http://api.eia.gov/series/?api_key=ff6b6c88bf6550d3c017016868cc1045&series_id=TOTAL.RETCBUS.A'\n",
    "req_re = requests.get(url_re)\n",
    "data_re = req_re.json()"
   ]
  },
  {
   "cell_type": "code",
   "execution_count": 18,
   "metadata": {
    "collapsed": false
   },
   "outputs": [
    {
     "data": {
      "text/plain": [
       "[u'series', u'request']"
      ]
     },
     "execution_count": 18,
     "metadata": {},
     "output_type": "execute_result"
    }
   ],
   "source": [
    "data_re.keys()"
   ]
  },
  {
   "cell_type": "code",
   "execution_count": 19,
   "metadata": {
    "collapsed": false
   },
   "outputs": [
    {
     "data": {
      "text/html": [
       "<div>\n",
       "<table border=\"1\" class=\"dataframe\">\n",
       "  <thead>\n",
       "    <tr style=\"text-align: right;\">\n",
       "      <th></th>\n",
       "      <th>data</th>\n",
       "      <th>end</th>\n",
       "      <th>f</th>\n",
       "      <th>name</th>\n",
       "      <th>series_id</th>\n",
       "      <th>start</th>\n",
       "      <th>units</th>\n",
       "      <th>updated</th>\n",
       "    </tr>\n",
       "  </thead>\n",
       "  <tbody>\n",
       "    <tr>\n",
       "      <th>0</th>\n",
       "      <td>[[2017, 11015.803], [2016, 10259.552], [2015, ...</td>\n",
       "      <td>2017</td>\n",
       "      <td>A</td>\n",
       "      <td>Total Renewable Energy Consumption, Annual</td>\n",
       "      <td>TOTAL.RETCBUS.A</td>\n",
       "      <td>1949</td>\n",
       "      <td>Trillion Btu</td>\n",
       "      <td>2018-04-26T14:49:52-0400</td>\n",
       "    </tr>\n",
       "  </tbody>\n",
       "</table>\n",
       "</div>"
      ],
      "text/plain": [
       "                                                data   end  f  \\\n",
       "0  [[2017, 11015.803], [2016, 10259.552], [2015, ...  2017  A   \n",
       "\n",
       "                                         name        series_id start  \\\n",
       "0  Total Renewable Energy Consumption, Annual  TOTAL.RETCBUS.A  1949   \n",
       "\n",
       "          units                   updated  \n",
       "0  Trillion Btu  2018-04-26T14:49:52-0400  "
      ]
     },
     "execution_count": 19,
     "metadata": {},
     "output_type": "execute_result"
    }
   ],
   "source": [
    "df_re=pd.DataFrame(data_re['series'])\n",
    "df_re"
   ]
  },
  {
   "cell_type": "code",
   "execution_count": 20,
   "metadata": {
    "collapsed": false
   },
   "outputs": [
    {
     "name": "stdout",
     "output_type": "stream",
     "text": [
      "   year  total_renewable_energy_consumption\n",
      "0  2017                           11015.803\n",
      "1  2016                           10259.552\n",
      "2  2015                            9633.952\n",
      "3  2014                            9737.760\n",
      "4  2013                            9452.488\n",
      "<class 'pandas.core.frame.DataFrame'>\n",
      "Int64Index: 69 entries, 0 to 68\n",
      "Data columns (total 2 columns):\n",
      "year                                  69 non-null object\n",
      "total_renewable_energy_consumption    69 non-null float64\n",
      "dtypes: float64(1), object(1)\n",
      "memory usage: 1.6+ KB\n"
     ]
    }
   ],
   "source": [
    "x_re=pd.DataFrame(df_re['data'][0])\n",
    "x_re.columns=['year','total_renewable_energy_consumption']\n",
    "print(x_re.head())\n",
    "x_re.info()"
   ]
  },
  {
   "cell_type": "code",
   "execution_count": 21,
   "metadata": {
    "collapsed": false
   },
   "outputs": [
    {
     "data": {
      "text/html": [
       "<div>\n",
       "<table border=\"1\" class=\"dataframe\">\n",
       "  <thead>\n",
       "    <tr style=\"text-align: right;\">\n",
       "      <th></th>\n",
       "      <th>year</th>\n",
       "      <th>total_renewable_energy_consumption</th>\n",
       "    </tr>\n",
       "  </thead>\n",
       "  <tbody>\n",
       "    <tr>\n",
       "      <th>68</th>\n",
       "      <td>1949</td>\n",
       "      <td>2973.984</td>\n",
       "    </tr>\n",
       "    <tr>\n",
       "      <th>67</th>\n",
       "      <td>1950</td>\n",
       "      <td>2977.718</td>\n",
       "    </tr>\n",
       "    <tr>\n",
       "      <th>66</th>\n",
       "      <td>1951</td>\n",
       "      <td>2958.464</td>\n",
       "    </tr>\n",
       "    <tr>\n",
       "      <th>65</th>\n",
       "      <td>1952</td>\n",
       "      <td>2940.181</td>\n",
       "    </tr>\n",
       "    <tr>\n",
       "      <th>64</th>\n",
       "      <td>1953</td>\n",
       "      <td>2831.460</td>\n",
       "    </tr>\n",
       "  </tbody>\n",
       "</table>\n",
       "</div>"
      ],
      "text/plain": [
       "    year  total_renewable_energy_consumption\n",
       "68  1949                            2973.984\n",
       "67  1950                            2977.718\n",
       "66  1951                            2958.464\n",
       "65  1952                            2940.181\n",
       "64  1953                            2831.460"
      ]
     },
     "execution_count": 21,
     "metadata": {},
     "output_type": "execute_result"
    }
   ],
   "source": [
    "x_re=x_re.sort_values(by=['year'])\n",
    "x_re.head()"
   ]
  },
  {
   "cell_type": "code",
   "execution_count": 22,
   "metadata": {
    "collapsed": false
   },
   "outputs": [
    {
     "data": {
      "text/plain": [
       "<matplotlib.text.Text at 0xb909550>"
      ]
     },
     "execution_count": 22,
     "metadata": {},
     "output_type": "execute_result"
    },
    {
     "data": {
      "image/png": "[encoded data removed]",
      "text/plain": [
       "<matplotlib.figure.Figure at 0xb845240>"
      ]
     },
     "metadata": {},
     "output_type": "display_data"
    }
   ],
   "source": [
    "x_re.plot(x='year',y='total_renewable_energy_consumption')\n",
    "plt.ylabel('trillion BTU')"
   ]
  },
  {
   "cell_type": "code",
   "execution_count": 23,
   "metadata": {
    "collapsed": false
   },
   "outputs": [
    {
     "name": "stdout",
     "output_type": "stream",
     "text": [
      "<class 'pandas.core.frame.DataFrame'>\n",
      "Int64Index: 69 entries, 68 to 0\n",
      "Data columns (total 2 columns):\n",
      "year                            69 non-null int64\n",
      "total_pri_energy_consumption    69 non-null float64\n",
      "dtypes: float64(1), int64(1)\n",
      "memory usage: 1.6 KB\n"
     ]
    }
   ],
   "source": [
    "x1.info()"
   ]
  },
  {
   "cell_type": "code",
   "execution_count": 24,
   "metadata": {
    "collapsed": false
   },
   "outputs": [
    {
     "name": "stdout",
     "output_type": "stream",
     "text": [
      "<class 'pandas.core.frame.DataFrame'>\n",
      "Int64Index: 69 entries, 68 to 0\n",
      "Data columns (total 2 columns):\n",
      "year                                  69 non-null object\n",
      "total_renewable_energy_consumption    69 non-null float64\n",
      "dtypes: float64(1), object(1)\n",
      "memory usage: 1.6+ KB\n"
     ]
    }
   ],
   "source": [
    "x_re.info()"
   ]
  },
  {
   "cell_type": "code",
   "execution_count": 25,
   "metadata": {
    "collapsed": false
   },
   "outputs": [],
   "source": [
    "data = x1\n",
    "data['total_re'] = x_re['total_renewable_energy_consumption']\n",
    "data['total_non_re'] = data['total_pri_energy_consumption']-data['total_re']\n",
    "data.columns = ['year','total_energy_consumption','renewable','non_renewable']"
   ]
  },
  {
   "cell_type": "code",
   "execution_count": 27,
   "metadata": {
    "collapsed": false
   },
   "outputs": [
    {
     "data": {
      "text/html": [
       "<div>\n",
       "<table border=\"1\" class=\"dataframe\">\n",
       "  <thead>\n",
       "    <tr style=\"text-align: right;\">\n",
       "      <th></th>\n",
       "      <th>year</th>\n",
       "      <th>total_energy_consumption</th>\n",
       "      <th>renewable</th>\n",
       "      <th>non_renewable</th>\n",
       "    </tr>\n",
       "  </thead>\n",
       "  <tbody>\n",
       "    <tr>\n",
       "      <th>68</th>\n",
       "      <td>1949</td>\n",
       "      <td>31981.503</td>\n",
       "      <td>2973.984</td>\n",
       "      <td>29007.519</td>\n",
       "    </tr>\n",
       "    <tr>\n",
       "      <th>67</th>\n",
       "      <td>1950</td>\n",
       "      <td>34615.768</td>\n",
       "      <td>2977.718</td>\n",
       "      <td>31638.050</td>\n",
       "    </tr>\n",
       "    <tr>\n",
       "      <th>66</th>\n",
       "      <td>1951</td>\n",
       "      <td>36974.030</td>\n",
       "      <td>2958.464</td>\n",
       "      <td>34015.566</td>\n",
       "    </tr>\n",
       "    <tr>\n",
       "      <th>65</th>\n",
       "      <td>1952</td>\n",
       "      <td>36747.825</td>\n",
       "      <td>2940.181</td>\n",
       "      <td>33807.644</td>\n",
       "    </tr>\n",
       "    <tr>\n",
       "      <th>64</th>\n",
       "      <td>1953</td>\n",
       "      <td>37664.468</td>\n",
       "      <td>2831.460</td>\n",
       "      <td>34833.008</td>\n",
       "    </tr>\n",
       "    <tr>\n",
       "      <th>63</th>\n",
       "      <td>1954</td>\n",
       "      <td>36639.382</td>\n",
       "      <td>2754.099</td>\n",
       "      <td>33885.283</td>\n",
       "    </tr>\n",
       "    <tr>\n",
       "      <th>62</th>\n",
       "      <td>1955</td>\n",
       "      <td>40207.971</td>\n",
       "      <td>2783.987</td>\n",
       "      <td>37423.984</td>\n",
       "    </tr>\n",
       "    <tr>\n",
       "      <th>61</th>\n",
       "      <td>1956</td>\n",
       "      <td>41754.252</td>\n",
       "      <td>2850.582</td>\n",
       "      <td>38903.670</td>\n",
       "    </tr>\n",
       "    <tr>\n",
       "      <th>60</th>\n",
       "      <td>1957</td>\n",
       "      <td>41787.186</td>\n",
       "      <td>2849.194</td>\n",
       "      <td>38937.992</td>\n",
       "    </tr>\n",
       "    <tr>\n",
       "      <th>59</th>\n",
       "      <td>1958</td>\n",
       "      <td>41645.028</td>\n",
       "      <td>2915.090</td>\n",
       "      <td>38729.938</td>\n",
       "    </tr>\n",
       "  </tbody>\n",
       "</table>\n",
       "</div>"
      ],
      "text/plain": [
       "    year  total_energy_consumption  renewable  non_renewable\n",
       "68  1949                 31981.503   2973.984      29007.519\n",
       "67  1950                 34615.768   2977.718      31638.050\n",
       "66  1951                 36974.030   2958.464      34015.566\n",
       "65  1952                 36747.825   2940.181      33807.644\n",
       "64  1953                 37664.468   2831.460      34833.008\n",
       "63  1954                 36639.382   2754.099      33885.283\n",
       "62  1955                 40207.971   2783.987      37423.984\n",
       "61  1956                 41754.252   2850.582      38903.670\n",
       "60  1957                 41787.186   2849.194      38937.992\n",
       "59  1958                 41645.028   2915.090      38729.938"
      ]
     },
     "execution_count": 27,
     "metadata": {},
     "output_type": "execute_result"
    }
   ],
   "source": [
    "data.head(10)"
   ]
  },
  {
   "cell_type": "code",
   "execution_count": 29,
   "metadata": {
    "collapsed": false
   },
   "outputs": [
    {
     "data": {
      "text/plain": [
       "<matplotlib.text.Text at 0xc579588>"
      ]
     },
     "execution_count": 29,
     "metadata": {},
     "output_type": "execute_result"
    },
    {
     "data": {
      "image/png": "[encoded data removed]",
      "text/plain": [
       "<matplotlib.figure.Figure at 0xbfa5048>"
      ]
     },
     "metadata": {},
     "output_type": "display_data"
    }
   ],
   "source": [
    "data.plot(x='year')\n",
    "plt.ylabel('trillion BTU')"
   ]
  }
 ],
 "metadata": {
  "kernelspec": {
   "display_name": "Python 2",
   "language": "python",
   "name": "python2"
  },
  "language_info": {
   "codemirror_mode": {
    "name": "ipython",
    "version": 2
   },
   "file_extension": ".py",
   "mimetype": "text/x-python",
   "name": "python",
   "nbconvert_exporter": "python",
   "pygments_lexer": "ipython2",
   "version": "2.7.11"
  }
 },
 "nbformat": 4,
 "nbformat_minor": 0
}
